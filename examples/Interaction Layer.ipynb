{
 "cells": [
  {
   "cell_type": "code",
   "execution_count": 1,
   "metadata": {
    "collapsed": false
   },
   "outputs": [],
   "source": [
    "import pandas as pd\n",
    "import numpy as np\n",
    "symbol = 'Security 1'"
   ]
  },
  {
   "cell_type": "code",
   "execution_count": 2,
   "metadata": {
    "collapsed": false
   },
   "outputs": [],
   "source": [
    "price_data = pd.DataFrame(np.cumsum(np.random.randn(150, 2).dot([[0.5, 0.4], [0.4, 1.0]]), axis=0) + 100,\n",
    "                          columns=['Security 1', 'Security 2'],\n",
    "                          index=pd.date_range(start='01-01-2007', periods=150))\n",
    "\n",
    "dates_actual = price_data.index.values\n",
    "prices = price_data[symbol].values"
   ]
  },
  {
   "cell_type": "code",
   "execution_count": 3,
   "metadata": {
    "collapsed": false
   },
   "outputs": [],
   "source": [
    "from bqplot import *\n",
    "from bqplot.interacts import *\n",
    "from traitlets import link\n",
    "\n",
    "from IPython.display import display\n",
    "from ipywidgets import Label, ToggleButtons, VBox"
   ]
  },
  {
   "cell_type": "code",
   "execution_count": 4,
   "metadata": {
    "collapsed": false
   },
   "outputs": [],
   "source": [
    "## call back for selectors\n",
    "def interval_change_callback(change):\n",
    "    db.value = str(change['new'])"
   ]
  },
  {
   "cell_type": "markdown",
   "metadata": {},
   "source": [
    "# Line Chart Selectors"
   ]
  },
  {
   "cell_type": "markdown",
   "metadata": {},
   "source": [
    "## Fast Interval Selector"
   ]
  },
  {
   "cell_type": "code",
   "execution_count": 5,
   "metadata": {
    "collapsed": false
   },
   "outputs": [],
   "source": [
    "dt_x = DateScale()\n",
    "# lin_x = LinearScale(min=-50, max=len(dates) + 50)\n",
    "lin_y = LinearScale()\n",
    "\n",
    "x_ax = Axis(label=\"Index\", scale=dt_x)\n",
    "x_ay = Axis(label=(symbol + \" Price\"), scale=lin_y, orientation=\"vertical\", tick_format=\"0.2f\")\n",
    "lc = Lines(x=dates_actual, y=prices, scales={'x': dt_x, 'y': lin_y}, colors=['orange'])\n",
    "lc_2 = Lines(x=dates_actual[50:], y=prices[50:] + 2, scales={'x': dt_x, 'y': lin_y}, colors=['blue'])\n",
    "\n",
    "intsel = FastIntervalSelector(scale=dt_x, marks=[lc, lc_2])\n",
    "intsel.observe(interval_change_callback, names=['selected'])\n",
    "\n",
    "db = Label()\n",
    "db.value = str(intsel.selected)\n",
    "display(db)\n",
    "\n",
    "fig = Figure(marks=[lc, lc_2], axes=[x_ax, x_ay], title=\"Ford Historic Time Series\", interaction=intsel)\n",
    "display(fig)"
   ]
  },
  {
   "cell_type": "markdown",
   "metadata": {},
   "source": [
    "## Index Selector"
   ]
  },
  {
   "cell_type": "code",
   "execution_count": 6,
   "metadata": {
    "collapsed": false
   },
   "outputs": [],
   "source": [
    "index_sel = IndexSelector(scale=dt_x, marks=[lc, lc_2])\n",
    "index_sel.observe(interval_change_callback, names=['selected'])\n",
    "fig.interaction = index_sel"
   ]
  },
  {
   "cell_type": "code",
   "execution_count": 7,
   "metadata": {
    "collapsed": false
   },
   "outputs": [],
   "source": [
    "## call back for selectors\n",
    "def date_interval_change_callback(change):\n",
    "    db_date.value = str(change['new'])"
   ]
  },
  {
   "cell_type": "code",
   "execution_count": 8,
   "metadata": {
    "collapsed": false
   },
   "outputs": [],
   "source": [
    "from datetime import datetime as py_dtime\n",
    "\n",
    "dt_x = DateScale(min=np.datetime64(py_dtime(2006, 6, 1)))\n",
    "lc2_y = LinearScale()\n",
    "\n",
    "lc2 = Lines(x=dates_actual, y=prices,\n",
    "            scales={'x': dt_x, 'y': lc2_y})\n",
    "\n",
    "x_ax1 = Axis(label=\"Date\", scale=dt_x)\n",
    "x_ay2 = Axis(label=(symbol + \" Price\"), scale=lc2_y, orientation=\"vertical\", tick_format=\"0.2f\")\n",
    "\n",
    "intsel_date = FastIntervalSelector(scale=dt_x, marks=[lc2])\n",
    "db_date = Label()\n",
    "db_date.value = str(intsel_date.selected)\n",
    "display(db_date)\n",
    "lc2.observe(date_interval_change_callback, names=['selected'])\n",
    "\n",
    "fig = Figure(marks=[lc2], axes=[x_ax1, x_ay2], interaction=intsel_date)\n",
    "display(fig)"
   ]
  },
  {
   "cell_type": "markdown",
   "metadata": {},
   "source": [
    "## Brush Selector"
   ]
  },
  {
   "cell_type": "code",
   "execution_count": 9,
   "metadata": {
    "collapsed": false
   },
   "outputs": [],
   "source": [
    "intsel_date = BrushIntervalSelector(scale=dt_x, marks=[lc2], color='blue')\n",
    "lc2.observe(date_interval_change_callback, names=['selected'])\n",
    "fig.interaction = intsel_date"
   ]
  },
  {
   "cell_type": "markdown",
   "metadata": {},
   "source": [
    "# Scatter Chart Selectors"
   ]
  },
  {
   "cell_type": "code",
   "execution_count": 10,
   "metadata": {
    "collapsed": false
   },
   "outputs": [],
   "source": [
    "symbol2 = 'Security 2'\n",
    "date_fmt = '%m-%d-%Y'\n",
    "\n",
    "sec2_data = price_data[symbol2].values\n",
    "dates = price_data.index.values"
   ]
  },
  {
   "cell_type": "code",
   "execution_count": 11,
   "metadata": {
    "collapsed": false
   },
   "outputs": [],
   "source": [
    "## call back for the selector\n",
    "def brush_callback(change):\n",
    "    db2.value = str(br_sel.selected)"
   ]
  },
  {
   "cell_type": "markdown",
   "metadata": {},
   "source": [
    "## Brush Selector"
   ]
  },
  {
   "cell_type": "code",
   "execution_count": 12,
   "metadata": {
    "collapsed": false
   },
   "outputs": [],
   "source": [
    "sc_x = LinearScale()\n",
    "sc_y = LinearScale()\n",
    "\n",
    "scatt = Scatter(x=prices, y=sec2_data,\n",
    "                scales={'x': sc_x, 'y': sc_y})\n",
    "\n",
    "br_sel = BrushSelector(x_scale=sc_x, y_scale=sc_y, marks=[scatt], color='red')\n",
    "br_sel.observe(brush_callback, names=['brushing'])\n",
    "\n",
    "db2 = Label()\n",
    "db2.value = str(br_sel.selected)\n",
    "display(db2)\n",
    "\n",
    "sc_xax = Axis(label=(symbol), scale=sc_x, tick_format=\"0.0f\")\n",
    "sc_yax = Axis(label=(symbol2), scale=sc_y, orientation=\"vertical\", tick_format=\"0.0f\")\n",
    "fig = Figure(marks =[scatt], axes=[sc_xax, sc_yax], interaction=br_sel)\n",
    "display(fig)"
   ]
  },
  {
   "cell_type": "markdown",
   "metadata": {},
   "source": [
    "## Brush Selector with Date Values"
   ]
  },
  {
   "cell_type": "code",
   "execution_count": 13,
   "metadata": {
    "collapsed": false
   },
   "outputs": [],
   "source": [
    "sc_date_x = DateScale(date_format=date_fmt)\n",
    "sc_y = LinearScale()\n",
    "\n",
    "scatt = Scatter(x=dates_actual, y=sec2_data,\n",
    "                scales={'x': sc_date_x, 'y': sc_y})\n",
    "br_sel = BrushSelector(x_scale=sc_date_x, y_scale=sc_y, marks=[scatt])\n",
    "br_sel.observe(brush_callback, names=['brushing'])\n",
    "\n",
    "db2 = Label()\n",
    "db2.value = str(br_sel.selected)\n",
    "display(db2)\n",
    "\n",
    "sc_xax = Axis(label=(symbol), scale=sc_date_x)\n",
    "sc_yax = Axis(label=(symbol2), scale=sc_y, orientation=\"vertical\", tick_format=\"0.0f\")\n",
    "fig = Figure(marks =[scatt], axes=[sc_xax, sc_yax], interaction=br_sel)\n",
    "display(fig)"
   ]
  },
  {
   "cell_type": "markdown",
   "metadata": {},
   "source": [
    "# Histogram Selectors"
   ]
  },
  {
   "cell_type": "code",
   "execution_count": 14,
   "metadata": {
    "collapsed": false
   },
   "outputs": [],
   "source": [
    "## call back for selectors\n",
    "def interval_change_callback(name, value):\n",
    "    db3.value = str(value)\n",
    "    \n",
    "## call back for the selector\n",
    "def brush_callback(change):\n",
    "    if(not br_intsel.brushing):\n",
    "        db3.value = str(br_intsel.selected)"
   ]
  },
  {
   "cell_type": "code",
   "execution_count": 15,
   "metadata": {
    "collapsed": false
   },
   "outputs": [],
   "source": [
    "returns = np.log(prices[1:]) - np.log(prices[:-1])\n",
    "hist_x = LinearScale()\n",
    "hist_y = LinearScale()\n",
    "hist = Hist(sample=returns, scales={'sample': hist_x, 'count': hist_y})\n",
    "\n",
    "br_intsel = BrushIntervalSelector(scale=hist_x, marks=[hist])\n",
    "br_intsel.observe(brush_callback, names=['selected'])\n",
    "br_intsel.observe(brush_callback, names=['brushing'])\n",
    "\n",
    "db3 = Label()\n",
    "db3.value = str(br_intsel.selected)\n",
    "display(db3)\n",
    "\n",
    "h_xax = Axis(scale=hist_x, label='Returns', grids='off', set_ticks=True, tick_format='0.2%')\n",
    "h_yax = Axis(scale=hist_y, label='Freq', orientation='vertical', grids='off')\n",
    "\n",
    "fig2 = Figure(marks=[hist], axes=[h_xax, h_yax], interaction=br_intsel)\n",
    "display(fig2)"
   ]
  },
  {
   "cell_type": "markdown",
   "metadata": {},
   "source": [
    "## Multi Selector"
   ]
  },
  {
   "cell_type": "code",
   "execution_count": 16,
   "metadata": {
    "collapsed": true
   },
   "outputs": [],
   "source": [
    "def multi_sel_callback(change):\n",
    "    if(not multi_sel.brushing):\n",
    "        db3.value = str(multi_sel.selected)"
   ]
  },
  {
   "cell_type": "code",
   "execution_count": 17,
   "metadata": {
    "collapsed": false
   },
   "outputs": [],
   "source": [
    "line_x = LinearScale()\n",
    "line_y = LinearScale()\n",
    "line = Lines(x=np.arange(100), y=np.random.randn(100), scales={'x': line_x, 'y': line_y})\n",
    "\n",
    "multi_sel = MultiSelector(scale=line_x, marks=[line])\n",
    "multi_sel.observe(multi_sel_callback, names=['selected'])\n",
    "multi_sel.observe(multi_sel_callback, names=['brushing'])\n",
    "\n",
    "db3 = Label()\n",
    "db3.value = str(multi_sel.selected)\n",
    "display(db3)\n",
    "\n",
    "h_xax = Axis(scale=line_x, label='Returns', grids='off', set_ticks=True)\n",
    "h_yax = Axis(scale=hist_y, label='Freq', orientation='vertical', grids='off')\n",
    "\n",
    "fig2 = Figure(marks=[line], axes=[h_xax, h_yax], interaction=multi_sel)\n",
    "display(fig2)"
   ]
  },
  {
   "cell_type": "code",
   "execution_count": 18,
   "metadata": {
    "collapsed": false
   },
   "outputs": [],
   "source": [
    "# changing the names of the intervals.\n",
    "multi_sel.names = ['int1', 'int2', 'int3']"
   ]
  },
  {
   "cell_type": "markdown",
   "metadata": {},
   "source": [
    "## Multi Selector with Date X"
   ]
  },
  {
   "cell_type": "code",
   "execution_count": 19,
   "metadata": {
    "collapsed": false
   },
   "outputs": [],
   "source": [
    "dt_x = DateScale(min=np.datetime64(py_dtime(2007, 1, 1)))\n",
    "line_y = LinearScale()\n",
    "line = Lines(x=dates_actual, y=sec2_data, scales={'x': dt_x, 'y': line_y}, colors=['red'])\n",
    "\n",
    "multi_sel = MultiSelector(scale=dt_x)\n",
    "multi_sel.observe(multi_sel_callback, names=['selected'])\n",
    "multi_sel.observe(multi_sel_callback, names=['brushing'])\n",
    "\n",
    "db3 = Label()\n",
    "db3.value = str(multi_sel.selected)\n",
    "display(db3)\n",
    "\n",
    "h_xax = Axis(scale=dt_x, label='Returns', grids='off')\n",
    "h_yax = Axis(scale=line_y, label='Freq', orientation='vertical', grids='off')\n",
    "\n",
    "fig2 = Figure(marks=[line], axes=[h_xax, h_yax], interaction=multi_sel)\n",
    "display(fig2)"
   ]
  },
  {
   "cell_type": "markdown",
   "metadata": {},
   "source": [
    "## Lasso Selector"
   ]
  },
  {
   "cell_type": "code",
   "execution_count": 20,
   "metadata": {
    "collapsed": true
   },
   "outputs": [],
   "source": [
    "lasso_sel = LassoSelector()"
   ]
  },
  {
   "cell_type": "code",
   "execution_count": 21,
   "metadata": {
    "collapsed": false
   },
   "outputs": [],
   "source": [
    "xs, ys = LinearScale(), LinearScale()\n",
    "data = np.arange(20)\n",
    "line = Lines(x=data, y=data, scales={'x': xs, 'y': ys})\n",
    "scatter = Scatter(x=data, y=data, scales={'x': xs, 'y': ys}, colors=['skyblue'])\n",
    "bar = Bars(x=data, y=data/2., scales={'x': xs, 'y': ys})\n",
    "xax, yax = Axis(scale=xs, label='X'), Axis(scale=ys, label='Y', orientation='vertical')\n",
    "fig = Figure(marks=[scatter, line, bar], axes=[xax, yax], interaction=lasso_sel)\n",
    "lasso_sel.marks = [scatter, line]\n",
    "display(fig)"
   ]
  },
  {
   "cell_type": "code",
   "execution_count": 22,
   "metadata": {
    "collapsed": false
   },
   "outputs": [
    {
     "data": {
      "text/plain": [
       "(None, None)"
      ]
     },
     "execution_count": 22,
     "metadata": {},
     "output_type": "execute_result"
    }
   ],
   "source": [
    "scatter.selected, line.selected"
   ]
  },
  {
   "cell_type": "markdown",
   "metadata": {},
   "source": [
    "## Pan Zoom"
   ]
  },
  {
   "cell_type": "code",
   "execution_count": 23,
   "metadata": {
    "collapsed": false
   },
   "outputs": [],
   "source": [
    "xs = DateScale(min=np.datetime64(py_dtime(2007, 1, 1)))\n",
    "ys = LinearScale()\n",
    "line = Lines(x=dates_actual, y=sec2_data, scales={'x': xs, 'y': ys}, colors=['red'])\n",
    "\n",
    "panzoom = PanZoom(scales={'x': [xs], 'y': [ys]})\n",
    "xax = Axis(scale=xs, label='Date', grids='off')\n",
    "yax = Axis(scale=ys, label='Price', orientation='vertical', grids='off')\n",
    "\n",
    "fig = Figure(marks=[line], axes=[xax, yax], interaction=panzoom)\n",
    "display(fig)"
   ]
  },
  {
   "cell_type": "markdown",
   "metadata": {},
   "source": [
    "## Hand Draw"
   ]
  },
  {
   "cell_type": "code",
   "execution_count": 24,
   "metadata": {
    "collapsed": false
   },
   "outputs": [],
   "source": [
    "xs = DateScale(min=np.datetime64(py_dtime(2007, 1, 1)))\n",
    "ys = LinearScale()\n",
    "line = Lines(x=dates_actual, y=sec2_data, scales={'x': xs, 'y': ys}, colors=['red'])\n",
    "\n",
    "handdraw = HandDraw(lines=line)\n",
    "xax = Axis(scale=xs, label='Date', grids='off')\n",
    "yax = Axis(scale=ys, label='Price', orientation='vertical', grids='off')\n",
    "\n",
    "fig = Figure(marks=[line], axes=[xax, yax], interaction=handdraw)\n",
    "display(fig)"
   ]
  },
  {
   "cell_type": "markdown",
   "metadata": {},
   "source": [
    "# Unified Figure with All Interactions"
   ]
  },
  {
   "cell_type": "code",
   "execution_count": 25,
   "metadata": {
    "collapsed": false
   },
   "outputs": [],
   "source": [
    "dt_x = DateScale(date_format=date_fmt, min=py_dtime(2007, 1, 1))\n",
    "lc1_x = LinearScale()\n",
    "lc2_y = LinearScale()\n",
    "\n",
    "lc2 = Lines(x=np.linspace(0.0, 10.0, len(prices)), y=prices * 0.25,\n",
    "            scales={'x': lc1_x, 'y': lc2_y}, \n",
    "            display_legend=True,\n",
    "            labels=['Security 1'])\n",
    "\n",
    "lc3 = Lines(x=dates_actual, y=sec2_data,\n",
    "            scales={'x': dt_x, 'y': lc2_y},\n",
    "            colors=['red'], \n",
    "            display_legend=True, \n",
    "            labels=['Security 2'])\n",
    "\n",
    "lc4 = Lines(x=np.linspace(0.0, 10.0, len(prices)), y=sec2_data * 0.75,\n",
    "            scales={'x': LinearScale(min=5, max=10), 'y': lc2_y},\n",
    "            colors=['green'], display_legend=True, \n",
    "            labels=['Security 2 squared'])\n",
    "\n",
    "x_ax1 = Axis(label='Date', scale=dt_x)\n",
    "x_ax2 = Axis(label='Time', scale=lc1_x, side='top')\n",
    "x_ay2 = Axis(label=(symbol + ' Price'), scale=lc2_y, orientation='vertical', tick_format='0.2f')\n",
    "\n",
    "\n",
    "fig = Figure(marks=[lc2, lc3, lc4], axes=[x_ax1, x_ax2, x_ay2])"
   ]
  },
  {
   "cell_type": "code",
   "execution_count": 26,
   "metadata": {
    "collapsed": false
   },
   "outputs": [],
   "source": [
    "## declaring the interactions\n",
    "multi_sel = MultiSelector(scale=dt_x, marks=[lc2, lc3])\n",
    "br_intsel = BrushIntervalSelector(scale=lc1_x, marks=[lc2, lc3])\n",
    "index_sel = IndexSelector(scale=dt_x, marks=[lc2, lc3])\n",
    "int_sel = FastIntervalSelector(scale=dt_x, marks=[lc3, lc2])\n",
    "\n",
    "hd = HandDraw(lines=lc2)\n",
    "hd2 = HandDraw(lines=lc3)\n",
    "pz = PanZoom(scales={'x': [dt_x], 'y': [lc2_y]})\n",
    "\n",
    "deb = Label()\n",
    "deb.value = \"hello\""
   ]
  },
  {
   "cell_type": "code",
   "execution_count": 27,
   "metadata": {
    "collapsed": false
   },
   "outputs": [],
   "source": [
    "## Call back handler for the interactions\n",
    "def test_callback(change):\n",
    "    deb.value = str(change['new'])\n",
    "    \n",
    "multi_sel.observe(test_callback, names=['selected'])\n",
    "br_intsel.observe(test_callback, names=['selected'])\n",
    "index_sel.observe(test_callback, names=['selected'])\n",
    "int_sel.observe(test_callback, names=['selected'])"
   ]
  },
  {
   "cell_type": "code",
   "execution_count": 28,
   "metadata": {
    "collapsed": false
   },
   "outputs": [],
   "source": [
    "from collections import OrderedDict\n",
    "selection_interacts = ToggleButtons(options=OrderedDict([('HandDraw1', hd), ('HandDraw2', hd2), ('PanZoom', pz), \n",
    "                                                       ('FastIntervalSelector', int_sel), ('IndexSelector', index_sel),\n",
    "                                                       ('BrushIntervalSelector', br_intsel), ('MultiSelector', multi_sel),\n",
    "                                                       ('None', None)]))\n",
    "display(deb)\n",
    "display(VBox([fig, selection_interacts], align_self=\"stretch\"))\n",
    "\n",
    "link((selection_interacts, 'value'), (fig, 'interaction'));"
   ]
  },
  {
   "cell_type": "code",
   "execution_count": 29,
   "metadata": {
    "collapsed": false
   },
   "outputs": [],
   "source": [
    "# Set the scales of lc4 to the ones of lc2 and check if panzoom pans the two.\n",
    "lc4.scales = lc2.scales"
   ]
  },
  {
   "cell_type": "code",
   "execution_count": null,
   "metadata": {
    "collapsed": true
   },
   "outputs": [],
   "source": []
  },
  {
   "cell_type": "code",
   "execution_count": null,
   "metadata": {
    "collapsed": true
   },
   "outputs": [],
   "source": []
  },
  {
   "cell_type": "code",
   "execution_count": null,
   "metadata": {
    "collapsed": true
   },
   "outputs": [],
   "source": []
  }
 ],
 "metadata": {
  "kernelspec": {
   "display_name": "Python 2",
   "language": "python",
   "name": "python2"
  },
  "language_info": {
   "codemirror_mode": {
    "name": "ipython",
    "version": 2
   },
   "file_extension": ".py",
   "mimetype": "text/x-python",
   "name": "python",
   "nbconvert_exporter": "python",
   "pygments_lexer": "ipython2",
   "version": "2.7.11"
  },
  "widgets": {
   "state": {
    "00635a6b15ab450ca2207d276f698639": {
     "views": []
    },
    "075c59cc32a5425ba97215b209eac7f1": {
     "views": []
    },
    "099f1e905bab425ba525fce01f9dea88": {
     "views": [
      {
       "cell_index": 31
      }
     ]
    },
    "0a7cbb29cb9d42e4b849124bb7a0b24b": {
     "views": []
    },
    "0bca40a6cfc34f2681d4577484baf662": {
     "views": []
    },
    "0c53620b260843e7b7660665e8e81625": {
     "views": []
    },
    "0d40413288a74eeeba0b59483aa8bdac": {
     "views": [
      {
       "cell_index": 41
      }
     ]
    },
    "0f9b7a5c72654756b0b8d5358f61e28e": {
     "views": []
    },
    "14f6260f002b47d49f80ac7bb12cd6d4": {
     "views": []
    },
    "1680f28ae34042749360ea63f916ea75": {
     "views": []
    },
    "168d5f76bdff4bf28c43f1752dd4f38c": {
     "views": []
    },
    "16ce303a2d654d46af748a53340602f5": {
     "views": []
    },
    "16eb5c8508314ee381d6a94abcfcfffb": {
     "views": []
    },
    "1ac1941bf6ab4dc5946ea527b817be30": {
     "views": []
    },
    "1b1dd3b9a32245ad90b4b128e8a45c52": {
     "views": []
    },
    "1b526341c7624e15b920ae843eddd1eb": {
     "views": []
    },
    "1b9f6670a1394936899a4fef73ae3431": {
     "views": []
    },
    "1d09ce261f044566b885f936ca6790a5": {
     "views": []
    },
    "1d7a7e2a443a45c3a68c3ebb84f79fbb": {
     "views": []
    },
    "1ddaf41f91994d36ae3edfa031d01b84": {
     "views": [
      {
       "cell_index": 28
      }
     ]
    },
    "1e154724f86341128fa35dc5be3a1034": {
     "views": []
    },
    "1fb84eaa1d004519b4a449360a4fe1a0": {
     "views": []
    },
    "2127c9163e044579855f66f147f83567": {
     "views": []
    },
    "221501157eaa40a686b6e8b33852a7a2": {
     "views": []
    },
    "227dc79d1c3748eea43e32052a35e443": {
     "views": []
    },
    "24bb86f080474d849e172cb236a6cde8": {
     "views": []
    },
    "251e57e955fa4ef799804dc52648f423": {
     "views": []
    },
    "25b1f293832d49a680378b8083df0665": {
     "views": []
    },
    "2623e702ba9041e491063e587256979e": {
     "views": []
    },
    "266e48771fb04480866ea7bc76653c86": {
     "views": []
    },
    "26c96a807b2f4fdbbe39296e8dacc268": {
     "views": []
    },
    "26df1c00c3594474b31b183a811fbe51": {
     "views": []
    },
    "271625a0c00e421681ad790fa3a18046": {
     "views": []
    },
    "272a7ca6a9d34c91816c2791b91c98dd": {
     "views": []
    },
    "27d4ad51cc5346e3b17885812ea81753": {
     "views": []
    },
    "2a5284f3abc544bcbac1fd4216e60294": {
     "views": []
    },
    "2ac6a7732b364694af1e07792b936db0": {
     "views": []
    },
    "2b0085c164ae48caa792a6151e67e11c": {
     "views": []
    },
    "2c2aa34125844b67b328d31708df48d7": {
     "views": []
    },
    "2f401f6f28444c0fbf46d20b72bb7582": {
     "views": []
    },
    "2f779ef2e608494699b4528df3c6b46b": {
     "views": [
      {
       "cell_index": 34
      }
     ]
    },
    "31278fb0fd364ce388c461fe146a4724": {
     "views": []
    },
    "3681b9b0f03642bb97222e89419320f4": {
     "views": []
    },
    "393eea9275bd4e54b0fd40803e1cbc22": {
     "views": []
    },
    "3c6fc86181ee45a29ed51c0ab524929b": {
     "views": []
    },
    "3c8c3e5db677422bb085a94eb82f2213": {
     "views": []
    },
    "3cbf01724a2647dc9aec2b3960f6c1b3": {
     "views": []
    },
    "403e73282c954ad78a5e129e4bad92d6": {
     "views": []
    },
    "44dc03aa563a4ff7a04d99c3cc38f25b": {
     "views": []
    },
    "483afd30c4234e1384723e894643e2f8": {
     "views": [
      {
       "cell_index": 17
      }
     ]
    },
    "48bcfdc0f259462eb3ec8cec0f2f08e9": {
     "views": []
    },
    "4c093bf8e49b4b49a851597b9401f7fc": {
     "views": []
    },
    "4d60c6aa178c4860b789245cd5f1dc2b": {
     "views": []
    },
    "4e6110509ecf4b158d2ab2a1aecd0b50": {
     "views": []
    },
    "4f147f758ff2410984f296782aec6982": {
     "views": []
    },
    "4f345502d23a41ba8e6aa4560011b341": {
     "views": []
    },
    "4fe6460bf7dc4716abe5e6e0ee78afc3": {
     "views": []
    },
    "524b82e3706d4087a696a4de9f9edf6a": {
     "views": []
    },
    "54331b89916a4256b961241efa53388e": {
     "views": [
      {
       "cell_index": 36
      }
     ]
    },
    "569e570ac7e340e19f9042af6ef95580": {
     "views": []
    },
    "56da5e06c8a14141a98ce9bbc56f4643": {
     "views": []
    },
    "58951b598e9c45eeb4297f3f49bcb38e": {
     "views": []
    },
    "5920c4eae17849afb65e95748de241e7": {
     "views": []
    },
    "5ac480c19b7a4a4a94318c984021d449": {
     "views": []
    },
    "5b79a93042f548c3b49a6cb1da2a6b23": {
     "views": [
      {
       "cell_index": 19
      }
     ]
    },
    "5b9193c99ed8421389c041529d701c52": {
     "views": []
    },
    "5f588834307f49c89999a58bbe9ba5a1": {
     "views": []
    },
    "607cac557e9b4415acbd6bcc0c9f7a54": {
     "views": [
      {
       "cell_index": 22
      }
     ]
    },
    "658cccf40fed48e9a393a47e05b4adfe": {
     "views": []
    },
    "6c6ab7f90c1f4946972dce119062888c": {
     "views": []
    },
    "6cf9222c7a0a4b13a949d803a03569fe": {
     "views": []
    },
    "6df1a233845647d0821bf0b05577163f": {
     "views": []
    },
    "706d76b8b0c743e2a083f1133a178ac4": {
     "views": []
    },
    "70a5104199bb4ba48761b9d657fcd95e": {
     "views": []
    },
    "7123fc2d38854f609b4c4e27b96b3cd9": {
     "views": []
    },
    "7128fa92c20c462480cfffa215ef1208": {
     "views": []
    },
    "75de09a570d44041bde5f50abcfdfa1b": {
     "views": []
    },
    "77ffd80e6ff049179fcd456ccf7087e6": {
     "views": []
    },
    "7816062d7c5f407eab0947cc7e0e2f18": {
     "views": []
    },
    "7817094b3184426da89db1bc4f51c872": {
     "views": []
    },
    "79124c28c7244853b3dde950e03b5222": {
     "views": []
    },
    "7caed4e0a709424c8ecddcb611140a40": {
     "views": []
    },
    "7e78e821e84d4a8389f07cbcf43eff58": {
     "views": []
    },
    "7f7d172a82ec40f7ac3918bea27f2c6f": {
     "views": [
      {
       "cell_index": 6
      }
     ]
    },
    "80239ca209424970a3260da5d33a3b5a": {
     "views": []
    },
    "80d8802d7e364d678f07976ef4596731": {
     "views": []
    },
    "82479e5e8f3849ef88748cc81a7064b6": {
     "views": []
    },
    "851ae88f2f8b497782df6a92ba611a80": {
     "views": []
    },
    "8975873b750e4ce28a61518869bcd5f4": {
     "views": [
      {
       "cell_index": 10
      }
     ]
    },
    "8e858120c8f74fca8a8a9fd2c38c02c1": {
     "views": []
    },
    "8f69ae862b91468b8c6a111a6394ed8b": {
     "views": []
    },
    "90d047bcef6449b6b192ef1c514dd6e3": {
     "views": []
    },
    "90f9ebe765aa456a9657a4a09d51b1c2": {
     "views": []
    },
    "91ae8beff3f54560a19ce6449855f544": {
     "views": [
      {
       "cell_index": 19
      }
     ]
    },
    "93fe54a0d7c743529813bde5a5547fd9": {
     "views": []
    },
    "958b537bade04d469f71222b555f520f": {
     "views": []
    },
    "996d224d5f26464eb0a29dfd421fe445": {
     "views": []
    },
    "99a69bd591aa4eb3a3c4ca98463958b8": {
     "views": []
    },
    "9bd8417f5b0f46299a100c4baadff606": {
     "views": []
    },
    "9da0ac46b288473f909f60dd86e93f5c": {
     "views": []
    },
    "a204f513f5ac475aa2a13bea444dce96": {
     "views": []
    },
    "a20a0c74961345adbb6a657c0fa97910": {
     "views": [
      {
       "cell_index": 22
      }
     ]
    },
    "a2e520dea97143d59be35970f17c3c87": {
     "views": [
      {
       "cell_index": 25
      }
     ]
    },
    "a482b7648959436f8ce88cfab7ebbc89": {
     "views": []
    },
    "a508e35a4d5646aaa7a2d525d7b2a8e8": {
     "views": []
    },
    "a5514bd1b8ae4757a798e1f003fed9ec": {
     "views": []
    },
    "a557284396d8472ca3dd0abc40c18fed": {
     "views": []
    },
    "a7b7996b38e44598afc4097f5b46dc98": {
     "views": []
    },
    "a9679fea48bd4a648ce2ba45a3ebe40c": {
     "views": []
    },
    "aa7285a85ba846feb623e2f17ed82e54": {
     "views": []
    },
    "af1d64d8f6294aae9520b2bdc1ff7a34": {
     "views": []
    },
    "afa8e87559bb4423bb5c767bf7abbbfc": {
     "views": []
    },
    "b134a610cd4a487aa5f846517eb4243d": {
     "views": []
    },
    "b5a5f2e1444049e5bac1e54a9a80da23": {
     "views": []
    },
    "b7104b82ad8245de986238ed30d2cc8c": {
     "views": []
    },
    "b7e4d7d6eda647199e5a01d7e48d6603": {
     "views": []
    },
    "ba12085c380349b6a6985f042345f742": {
     "views": []
    },
    "bb15451b03444633b29dcabf288a1f0a": {
     "views": []
    },
    "bd1a5292c1dd4a7bb85ae93d7070e13d": {
     "views": []
    },
    "bfe43b0a145f4d998420541fd90fd217": {
     "views": []
    },
    "c01b5ae0fba749be9a3cb0c05de420c6": {
     "views": []
    },
    "c09f5e1a74fc47c18f6fc17b1b699c34": {
     "views": []
    },
    "c1b3922573984b649618f56f410bc255": {
     "views": []
    },
    "c6285e159a934c8cb9f3b1953984e770": {
     "views": []
    },
    "c656622bdbdf4195add29e6c9bca4525": {
     "views": []
    },
    "c6d0a704666f47de843d6660c2b655b7": {
     "views": []
    },
    "c91a0a4c84ad479eac840cb0d59db41e": {
     "views": [
      {
       "cell_index": 6
      }
     ]
    },
    "c91c47edbf6f47c59860ed46e2f85283": {
     "views": []
    },
    "cd82d6e85c3641bda842e882425ffb74": {
     "views": []
    },
    "d4803a57b9144788a6da69df13173efa": {
     "views": [
      {
       "cell_index": 41
      }
     ]
    },
    "d4ea7ce297574cf882dbb4a370c3d33e": {
     "views": [
      {
       "cell_index": 10
      }
     ]
    },
    "d59f2d0265634c85bb506ed9b42e82e2": {
     "views": [
      {
       "cell_index": 28
      }
     ]
    },
    "d8094bb36f2844b2a1b071b6a1897f7b": {
     "views": [
      {
       "cell_index": 17
      }
     ]
    },
    "dc1e9de54c0f4fe9ba30d9ff52bcdbda": {
     "views": []
    },
    "dd8fd75ad8ef411eba27c3d1ff973924": {
     "views": []
    },
    "df4ebfd733c1428682b5b132d74dd4c1": {
     "views": []
    },
    "e129143067c0493baa6710ee9dacb8cc": {
     "views": []
    },
    "e1e73203b9f14b39b42a64abc54053d6": {
     "views": []
    },
    "e51323d10e1542a495fc4ea2ae2efd8b": {
     "views": []
    },
    "e6c0f06920254927a3f118871c6a7e15": {
     "views": []
    },
    "e82281f9758348b69e07f5198025c1dc": {
     "views": []
    },
    "e9a60a4eb22940fd9f09233be50a8f1d": {
     "views": [
      {
       "cell_index": 25
      }
     ]
    },
    "ec382174af3f4c4f8adff24878358792": {
     "views": []
    },
    "ecb1579abd5343639eb1099e2b2bbfe3": {
     "views": [
      {
       "cell_index": 22
      }
     ]
    },
    "eeee17a7f83f445994f8991d56912604": {
     "views": []
    },
    "ef787449a6b549a19ced02deb6ddc293": {
     "views": []
    },
    "f1be9ac1fbb247999cefc3dd3751d7bb": {
     "views": []
    },
    "f2423692699f4091b281ca87f87700b4": {
     "views": []
    },
    "f2b99e0246a249db95db944b7b4465e8": {
     "views": []
    },
    "f3301b9377164e8baf2964748cdcb27b": {
     "views": []
    },
    "f4e3164e649f4ea7adeba38c2a3ddab5": {
     "views": []
    },
    "f61ad7c304004abcbd98b571bfc0d35a": {
     "views": []
    },
    "f8535fa242e74ed094178477e5bb91a9": {
     "views": []
    },
    "f9287f04325d4ce4803046c6413ab6e7": {
     "views": []
    },
    "fb5bbd4f5c4547d69861462951f5d393": {
     "views": []
    },
    "fd381a62894549cab1703338a144c900": {
     "views": []
    },
    "fe03badd233f47418b9bea557f6ad6b2": {
     "views": []
    },
    "ff468be2a0544bdeb60d223db341f336": {
     "views": []
    }
   },
   "version": "1.1.1"
  }
 },
 "nbformat": 4,
 "nbformat_minor": 1
}
