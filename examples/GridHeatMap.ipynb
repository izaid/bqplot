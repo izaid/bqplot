{
 "cells": [
  {
   "cell_type": "code",
   "execution_count": 1,
   "metadata": {
    "collapsed": false
   },
   "outputs": [],
   "source": [
    "from __future__ import print_function\n",
    "import numpy as np\n",
    "from bqplot import *\n",
    "from IPython.display import display"
   ]
  },
  {
   "cell_type": "markdown",
   "metadata": {},
   "source": [
    "## Get Data"
   ]
  },
  {
   "cell_type": "code",
   "execution_count": 2,
   "metadata": {
    "collapsed": false
   },
   "outputs": [],
   "source": [
    "np.random.seed(0)\n",
    "data = np.random.randn(10, 10)"
   ]
  },
  {
   "cell_type": "markdown",
   "metadata": {},
   "source": [
    "## Basic Heat map"
   ]
  },
  {
   "cell_type": "code",
   "execution_count": 3,
   "metadata": {
    "collapsed": true
   },
   "outputs": [],
   "source": [
    "col_sc = ColorScale()\n",
    "grid_map = GridHeatMap(color=data, scales={'color': col_sc})\n",
    "\n",
    "fig = Figure(marks=[grid_map], padding_y=0.0)\n",
    "display(fig)"
   ]
  },
  {
   "cell_type": "markdown",
   "metadata": {},
   "source": [
    "## Heat map with axes"
   ]
  },
  {
   "cell_type": "code",
   "execution_count": 4,
   "metadata": {
    "collapsed": false
   },
   "outputs": [],
   "source": [
    "x_sc, y_sc, col_sc = OrdinalScale(), OrdinalScale(reverse=True), ColorScale()\n",
    "\n",
    "grid_map = GridHeatMap(color=data, scales={'column': x_sc, 'row': y_sc, 'color': col_sc})\n",
    "ax_x, ax_y = Axis(scale=x_sc), Axis(scale=y_sc, orientation='vertical')\n",
    "\n",
    "fig = Figure(marks=[grid_map], axes=[ax_x, ax_y], padding_y=0.0)\n",
    "display(fig)"
   ]
  },
  {
   "cell_type": "markdown",
   "metadata": {},
   "source": [
    "## Non Uniform Heat map"
   ]
  },
  {
   "cell_type": "code",
   "execution_count": 5,
   "metadata": {
    "collapsed": false
   },
   "outputs": [],
   "source": [
    "x_sc, y_sc, col_sc = LinearScale(), LinearScale(reverse=True), ColorScale()\n",
    "ax_x = Axis(scale=x_sc)\n",
    "ax_y = Axis(scale=y_sc, orientation='vertical')\n",
    "\n",
    "## The data along the rows is not uniform. Hence the 5th row(from top) of the map\n",
    "## is twice the height of the remaining rows.\n",
    "row_data = np.arange(10)\n",
    "row_data[5:] = np.arange(6, 11)\n",
    "\n",
    "column_data = np.arange(10, 20)\n",
    "\n",
    "grid_map = GridHeatMap(row=row_data, column=column_data, color=data,\n",
    "                       scales={'row': y_sc, 'column': x_sc, 'color': col_sc})\n",
    "fig = Figure(marks=[grid_map], padding_y=0.0, axes=[ax_x, ax_y])\n",
    "display(fig)"
   ]
  },
  {
   "cell_type": "code",
   "execution_count": 6,
   "metadata": {
    "collapsed": false,
    "scrolled": true
   },
   "outputs": [
    {
     "name": "stdout",
     "output_type": "stream",
     "text": [
      "(10,)\n",
      "(10,)\n",
      "(10, 10)\n"
     ]
    }
   ],
   "source": [
    "print(row_data.shape)\n",
    "print(column_data.shape)\n",
    "print(data.shape)"
   ]
  },
  {
   "cell_type": "markdown",
   "metadata": {},
   "source": [
    "## Alignment of the data with respect to the grid"
   ]
  },
  {
   "cell_type": "markdown",
   "metadata": {},
   "source": [
    "For a `N-by-N` matrix, `N+1` points along the row or the column are assumed to be end points."
   ]
  },
  {
   "cell_type": "code",
   "execution_count": 7,
   "metadata": {
    "collapsed": true
   },
   "outputs": [],
   "source": [
    "x_sc, y_sc, col_sc = LinearScale(), LinearScale(reverse=True), ColorScale()\n",
    "ax_x = Axis(scale=x_sc)\n",
    "ax_y = Axis(scale=y_sc, orientation='vertical')\n",
    "\n",
    "row_data = np.arange(11)\n",
    "column_data = np.arange(10, 21)\n",
    "\n",
    "grid_map = GridHeatMap(row=row_data, column=column_data, color=data,\n",
    "                       scales={'row': y_sc, 'column': x_sc, 'color': col_sc})\n",
    "fig = Figure(marks=[grid_map], padding_y=0.0, axes=[ax_x, ax_y])\n",
    "display(fig)"
   ]
  },
  {
   "cell_type": "markdown",
   "metadata": {},
   "source": [
    "By default, for `N` points along any dimension, data aligns to the `start` of the rectangles in the grid. \n",
    "The grid extends infinitely in the other direction. By default, the grid extends infintely\n",
    "towards the bottom and the right."
   ]
  },
  {
   "cell_type": "code",
   "execution_count": 8,
   "metadata": {
    "collapsed": true
   },
   "outputs": [],
   "source": [
    "x_sc, y_sc, col_sc = LinearScale(), LinearScale(reverse=True, max=15), ColorScale()\n",
    "ax_x = Axis(scale=x_sc)\n",
    "ax_y = Axis(scale=y_sc, orientation='vertical')\n",
    "\n",
    "row_data = np.arange(10)\n",
    "column_data = np.arange(10, 20)\n",
    "\n",
    "grid_map = GridHeatMap(row=row_data, column=column_data, color=data,\n",
    "                       scales={'row': y_sc, 'column': x_sc, 'color': col_sc})\n",
    "fig = Figure(marks=[grid_map], padding_y=0.0, axes=[ax_x, ax_y])\n",
    "display(fig)"
   ]
  },
  {
   "cell_type": "markdown",
   "metadata": {},
   "source": [
    "By changing the `row_align` and `column_align` properties, the grid can extend in the opposite direction"
   ]
  },
  {
   "cell_type": "code",
   "execution_count": 9,
   "metadata": {
    "collapsed": true
   },
   "outputs": [],
   "source": [
    "x_sc, y_sc, col_sc = LinearScale(), LinearScale(reverse=True, min=-5, max=15), ColorScale()\n",
    "ax_x = Axis(scale=x_sc)\n",
    "ax_y = Axis(scale=y_sc, orientation='vertical')\n",
    "\n",
    "row_data = np.arange(10)\n",
    "column_data = np.arange(10, 20)\n",
    "\n",
    "grid_map = GridHeatMap(row=row_data, column=column_data, color=data,\n",
    "                      scales={'row': y_sc, 'column': x_sc, 'color': col_sc},\n",
    "                      row_align='end')\n",
    "fig = Figure(marks=[grid_map], padding_y=0.0, axes=[ax_x, ax_y])\n",
    "display(fig)"
   ]
  },
  {
   "cell_type": "markdown",
   "metadata": {},
   "source": [
    "For `N+1` points on any direction, the grid extends infintely in both directions"
   ]
  },
  {
   "cell_type": "code",
   "execution_count": 10,
   "metadata": {
    "collapsed": true
   },
   "outputs": [],
   "source": [
    "x_sc, y_sc, col_sc = LinearScale(), LinearScale(reverse=True, min=-5, max=15), ColorScale()\n",
    "ax_x = Axis(scale=x_sc)\n",
    "ax_y = Axis(scale=y_sc, orientation='vertical')\n",
    "\n",
    "row_data = np.arange(9)\n",
    "column_data = np.arange(10, 20)\n",
    "\n",
    "grid_map = GridHeatMap(row=row_data, column=column_data, color=data, \n",
    "                       scales={'row': y_sc, 'column': x_sc, 'color': col_sc}, row_align='end')\n",
    "fig = Figure(marks=[grid_map], padding_y=0.0, axes=[ax_x, ax_y])\n",
    "display(fig)"
   ]
  },
  {
   "cell_type": "markdown",
   "metadata": {},
   "source": [
    "## Changing opacity and stroke"
   ]
  },
  {
   "cell_type": "code",
   "execution_count": 11,
   "metadata": {
    "collapsed": true
   },
   "outputs": [],
   "source": [
    "col_sc = ColorScale()\n",
    "\n",
    "grid_map = GridHeatMap(color=data, scales={'color': col_sc}, opacity=0.3, stroke='white')\n",
    "fig = Figure(marks=[grid_map], padding_y=0.0)\n",
    "display(fig)"
   ]
  },
  {
   "cell_type": "markdown",
   "metadata": {},
   "source": [
    "## Selections on the grid map"
   ]
  },
  {
   "cell_type": "markdown",
   "metadata": {},
   "source": [
    "Selection on the `GridHeatMap` works similar to excel. Clicking on a cell selects the cell, and deselects the previous selection. Using the `Ctrl` key allows multiple cells to be selected, while the `Shift` key selects the range from the last cell in the selection to the current cell."
   ]
  },
  {
   "cell_type": "code",
   "execution_count": 12,
   "metadata": {
    "collapsed": true
   },
   "outputs": [],
   "source": [
    "data = np.random.randn(10, 10)\n",
    "\n",
    "col_sc = ColorScale()\n",
    "grid_map = GridHeatMap(color=data, scales={'color': col_sc}, interactions={'click':'select'},\n",
    "                      selected_style={'opacity': '1.0'}, unselected_style={'opacity': 0.4})\n",
    "\n",
    "fig = Figure(marks=[grid_map], padding_y=0.0)\n",
    "display(fig)"
   ]
  },
  {
   "cell_type": "markdown",
   "metadata": {},
   "source": [
    "The `selected` trait of a `GridHeatMap` contains a list of lists, with each sub-list containing the row and column index of a selected cell."
   ]
  },
  {
   "cell_type": "code",
   "execution_count": 13,
   "metadata": {
    "collapsed": false,
    "scrolled": false
   },
   "outputs": [],
   "source": [
    "grid_map.selected"
   ]
  },
  {
   "cell_type": "code",
   "execution_count": null,
   "metadata": {
    "collapsed": true
   },
   "outputs": [],
   "source": []
  },
  {
   "cell_type": "code",
   "execution_count": null,
   "metadata": {
    "collapsed": true
   },
   "outputs": [],
   "source": []
  }
 ],
 "metadata": {
  "kernelspec": {
   "display_name": "Python 2",
   "language": "python",
   "name": "python2"
  },
  "language_info": {
   "codemirror_mode": {
    "name": "ipython",
    "version": 2
   },
   "file_extension": ".py",
   "mimetype": "text/x-python",
   "name": "python",
   "nbconvert_exporter": "python",
   "pygments_lexer": "ipython2",
   "version": "2.7.11"
  },
  "widgets": {
   "state": {
    "0175825a35964e4ab3ea5c46f5e742fb": {
     "views": []
    },
    "03811d301033407ca851503f71f51c91": {
     "views": []
    },
    "098b7296e1954c8db10fa679eff6384a": {
     "views": []
    },
    "0fd32ee0b1e548dc9decef0bd3e00b59": {
     "views": []
    },
    "208e9b9731204806851fc7911d6bc34d": {
     "views": []
    },
    "21b9d855cc72441b8d43c927bafb1f37": {
     "views": []
    },
    "251f9e3a5b934d80a1530cf37c0b9d0f": {
     "views": []
    },
    "2e62d70a70204eaea68955000ba27964": {
     "views": []
    },
    "30c1128d25cf4f489c7ce7d620de1645": {
     "views": []
    },
    "33112c2dfbf04b05a07f237f52ee8a96": {
     "views": []
    },
    "367c9a826412468d86fd55ae537e34d1": {
     "views": []
    },
    "394ab87fd2a34be18d70bbdadf3d2f65": {
     "views": []
    },
    "397220de6aa14041b94a2e4c5c97dd5c": {
     "views": []
    },
    "3ae969950ccb41f5997dc4fed91c5b3c": {
     "views": []
    },
    "3b382a8c0fd3490c8899ea600aaaacd1": {
     "views": []
    },
    "3e650695982447c5850edf5ca1b63262": {
     "views": []
    },
    "45ed3dccdc1241b8828727018edfa2c1": {
     "views": []
    },
    "468f9176e5514c33aa15ba5b8b0c3520": {
     "views": []
    },
    "4a4992034c6b419585ea2fc1226072d1": {
     "views": [
      {
       "cell_index": 16
      }
     ]
    },
    "4bf163eaf3854787986fc7c7926f644b": {
     "views": []
    },
    "4e56c2c8be5a4ad6913e9a7f50a5a7de": {
     "views": [
      {
       "cell_index": 4
      }
     ]
    },
    "544dc58b004d4412b4f5f9d3c68287ec": {
     "views": []
    },
    "56263a28460c4bd19fa96be1bcd1a57b": {
     "views": []
    },
    "562b3dbd27764768b66983a68794b7d1": {
     "views": [
      {
       "cell_index": 8
      }
     ]
    },
    "599ee5733f354f61bb96dde0f51ae925": {
     "views": []
    },
    "5b4cb7a07445463299d2582de7ca0d3d": {
     "views": []
    },
    "5eabefcab04b4198a3b486ba6cbdbf40": {
     "views": []
    },
    "60cc636a49c94d85b7cf81d893699a14": {
     "views": []
    },
    "6201d35caf604ebca4d9042d65e4497e": {
     "views": []
    },
    "639ba1e66d0d4ca9a72a28450a55a5af": {
     "views": []
    },
    "66d45a3d8bb64d8b98466e7dc80c5c5c": {
     "views": []
    },
    "69c2203aefa44742afa0e1a0afa87cff": {
     "views": []
    },
    "6e18b620cfd04e0d81ea24ead68fa981": {
     "views": []
    },
    "713e8fc6b8fd462887d0c96680e4ac04": {
     "views": []
    },
    "7a6664773dc943ecab6c53929394c486": {
     "views": []
    },
    "7aa5d8ac7942494692de013faac04ac0": {
     "views": []
    },
    "7f1fb194048442b284952ed99ee7558c": {
     "views": []
    },
    "84ba66ffef2041aca38df7ceb286a6bb": {
     "views": []
    },
    "87ec831403b4488e971a4aa6d44dd68f": {
     "views": []
    },
    "8f0439f3c31f4da89ac86f58466c3028": {
     "views": []
    },
    "8f2e7623a4cb4f7db08e0774b471a868": {
     "views": []
    },
    "8f5d3d7028ff43b0bf994d4ae8afae96": {
     "views": []
    },
    "91e57857c23a436ea84c65d902767053": {
     "views": [
      {
       "cell_index": 18
      }
     ]
    },
    "9330e0e795dc4726bc2498c18ae50dfa": {
     "views": []
    },
    "994e700ebd854f5bb520f20114535ec2": {
     "views": []
    },
    "a2a7f62a88ad490d9cff94f546a2a0cb": {
     "views": []
    },
    "a43ef93e77af415aa791ad50f315af96": {
     "views": []
    },
    "a495b7bf916d4a119c8dbfbc4dfe645e": {
     "views": []
    },
    "a52c1023905e434cb99b706986f8a43d": {
     "views": []
    },
    "a631ba78db9b454e8068afb437e29023": {
     "views": []
    },
    "a7e141a0478e4122a816c1facd64ad72": {
     "views": []
    },
    "a86902e30c4f4c43b3922785ea39f3a9": {
     "views": [
      {
       "cell_index": 20
      }
     ]
    },
    "a8c38b4568cb45c3b44ac1b2d8ed4eec": {
     "views": []
    },
    "af9a14daca3447fb9b6cf185e50a2660": {
     "views": []
    },
    "b2d4cb1599d14178807473920fa0a3a7": {
     "views": []
    },
    "b333b20382364440952097b801641961": {
     "views": []
    },
    "b5be9fb5582a426d920755cc211fc329": {
     "views": []
    },
    "b7a3119ce4fd4ec08e13be10f5cc84c5": {
     "views": []
    },
    "b7bed5dea8a24daf98df578fcdaa4f00": {
     "views": []
    },
    "b8a4bdc016944fd9a47fdfe26a4a6979": {
     "views": []
    },
    "c31bb9e5648842deae186f41085e69b1": {
     "views": []
    },
    "d11326a1635840f8a7ed9e9a6a0adf55": {
     "views": [
      {
       "cell_index": 14
      }
     ]
    },
    "d3b90433df7443ea9efd7ed490672e9c": {
     "views": []
    },
    "d411baa1ce204badb3547bc9ec19e15b": {
     "views": []
    },
    "d4d66620831545f89ff50193155e9c60": {
     "views": [
      {
       "cell_index": 12
      }
     ]
    },
    "d518894558db4979b1e4cda385f1b309": {
     "views": []
    },
    "d6a6e3e520d340ca8b2f9f70f233cc24": {
     "views": []
    },
    "d7943626e7864fb69fb52a5c432da09b": {
     "views": []
    },
    "d7b1d41443af435899a2016b8669081f": {
     "views": []
    },
    "d7f19157bfb246249e11e03b351e15ff": {
     "views": []
    },
    "d81722212d8348d586b5a9abb6d627ce": {
     "views": []
    },
    "d8923740b4f44303aa6cc887691e8c22": {
     "views": []
    },
    "df4e017a71db4e9aa5ace64885dde820": {
     "views": []
    },
    "e267abc070fe458bb28768e42f0b3555": {
     "views": []
    },
    "e3318150e22b4bbf87d0157b2a1ac5e5": {
     "views": []
    },
    "e544f90c073d4e6896dad85c2cba6dd5": {
     "views": [
      {
       "cell_index": 6
      }
     ]
    },
    "f2d1b3404bc34f049fb8934b1638fdaf": {
     "views": []
    },
    "f5da2687eaba4879b79fe99d8d777f57": {
     "views": []
    },
    "f6eb3f0a7d654bcfae7639c4d7bf118a": {
     "views": []
    },
    "f76f1129678a4bd98766f5af4586a787": {
     "views": []
    },
    "fa0fa7eaa0314eb3a9b3d7a8fe2c21ff": {
     "views": []
    },
    "fbf489fef262459592bf8b3bd01f6e60": {
     "views": [
      {
       "cell_index": 23
      }
     ]
    },
    "fe0e5efa170b45bc86c40f9dd6b38f6d": {
     "views": []
    },
    "fe555e57b5204db699b807574a9c3613": {
     "views": []
    }
   },
   "version": "1.1.1"
  }
 },
 "nbformat": 4,
 "nbformat_minor": 0
}
