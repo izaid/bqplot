{
 "cells": [
  {
   "cell_type": "code",
   "execution_count": 1,
   "metadata": {
    "collapsed": false
   },
   "outputs": [],
   "source": [
    "from IPython.display import display\n",
    "from bqplot import *"
   ]
  },
  {
   "cell_type": "markdown",
   "metadata": {},
   "source": [
    "## Basic Map ##"
   ]
  },
  {
   "cell_type": "code",
   "execution_count": 2,
   "metadata": {
    "collapsed": false
   },
   "outputs": [],
   "source": [
    "sc_geo = Mercator()\n",
    "x = Map(map_data=topo_load('WorldMapData.json'), scales={'projection': sc_geo})\n",
    "fig = Figure(marks=[x])\n",
    "display(fig)"
   ]
  },
  {
   "cell_type": "markdown",
   "metadata": {
    "collapsed": true
   },
   "source": [
    "## Advanced Map and Projection ##"
   ]
  },
  {
   "cell_type": "code",
   "execution_count": 3,
   "metadata": {
    "collapsed": true
   },
   "outputs": [],
   "source": [
    "sc_geo = Orthographic()\n",
    "x = Map(map_data=topo_load('WorldMapData.json'), scales={'projection': sc_geo})\n",
    "fig = Figure(marks=[x], fig_color='deepskyblue')\n",
    "display(fig)"
   ]
  },
  {
   "cell_type": "code",
   "execution_count": 4,
   "metadata": {
    "collapsed": false
   },
   "outputs": [],
   "source": [
    "sc_geo.scale = 350"
   ]
  },
  {
   "cell_type": "markdown",
   "metadata": {},
   "source": [
    "## Chloropleth ##"
   ]
  },
  {
   "cell_type": "code",
   "execution_count": 5,
   "metadata": {
    "collapsed": false
   },
   "outputs": [],
   "source": [
    "sc_geo = Mercator()\n",
    "sc_c1 = ColorScale(scheme='YlOrRd')\n",
    "\n",
    "map_styles = {'color': {643: 200., 4: 21., 398: 23., 156: 42., 124:78., 76: 98.}, \n",
    "              'scales': {'projection': sc_geo, 'color': sc_c1}}\n",
    "\n",
    "axis = ColorAxis(scale=sc_c1)\n",
    "\n",
    "x = Map(map_data=topo_load('WorldMapData.json'), **map_styles)\n",
    "fig = Figure(marks=[x], axes=[axis])\n",
    "display(fig)"
   ]
  },
  {
   "cell_type": "markdown",
   "metadata": {},
   "source": [
    "## Alternate Map Data ##"
   ]
  },
  {
   "cell_type": "code",
   "execution_count": 6,
   "metadata": {
    "collapsed": false
   },
   "outputs": [],
   "source": [
    "sc_geo = AlbersUSA()\n",
    "x = Map(map_data=topo_load('USMapData.json'), \n",
    "            scales={'projection': sc_geo})\n",
    "fig = Figure(marks=[x])\n",
    "display(fig)"
   ]
  },
  {
   "cell_type": "markdown",
   "metadata": {},
   "source": [
    "## Interactions ##"
   ]
  },
  {
   "cell_type": "code",
   "execution_count": 7,
   "metadata": {
    "collapsed": false
   },
   "outputs": [],
   "source": [
    "def_tt = Tooltip(fields=['id', 'name'])\n",
    "map_mark = Map(map_data=topo_load('WorldMapData.json'), \n",
    "               scales={'projection': Mercator()}, tooltip=def_tt)\n",
    "map_mark.interactions = {'click': 'select', 'hover': 'tooltip'}\n",
    "fig = Figure(marks=[map_mark])\n",
    "display(fig)"
   ]
  },
  {
   "cell_type": "code",
   "execution_count": null,
   "metadata": {
    "collapsed": true
   },
   "outputs": [],
   "source": []
  }
 ],
 "metadata": {
  "kernelspec": {
   "display_name": "Python 2",
   "language": "python",
   "name": "python2"
  },
  "language_info": {
   "codemirror_mode": {
    "name": "ipython",
    "version": 2
   },
   "file_extension": ".py",
   "mimetype": "text/x-python",
   "name": "python",
   "nbconvert_exporter": "python",
   "pygments_lexer": "ipython2",
   "version": "2.7.11"
  },
  "widgets": {
   "state": {
    "010f9d90078c48c6a34c67ef9c9ff186": {
     "views": []
    },
    "062124b8f6ac4edda77feb91538caa63": {
     "views": []
    },
    "08d45d798dd043eaa579676d1f5780e7": {
     "views": []
    },
    "0c0babc687ba4be8a4f87e5ec066d52d": {
     "views": []
    },
    "0d8be68c53124e8faf6832e35590ea43": {
     "views": []
    },
    "30cddb8e07b6404486cb6437d799f2d1": {
     "views": []
    },
    "3481f8db629e4e09b5abe36c95bbfdd0": {
     "views": [
      {
       "cell_index": 2
      }
     ]
    },
    "39c24a070513401d96d21fb9c8528f3d": {
     "views": []
    },
    "3a3424caf1b54e26a0dc1681c330e373": {
     "views": []
    },
    "3bad9cc0d24849e49df637c09fe2bb9b": {
     "views": []
    },
    "3e80e6804158481eb5fb3e4d3d87e61a": {
     "views": []
    },
    "59f4b7a844114ff09219f18eda4db85a": {
     "views": [
      {
       "cell_index": 4
      }
     ]
    },
    "5b14a532384d4281878c74ef58f4cafc": {
     "views": [
      {
       "cell_index": 7
      }
     ]
    },
    "7464b41edc494ce48ceae9535a9fe89b": {
     "views": []
    },
    "760ec198c7224192b09bd2fdac39f2e0": {
     "views": []
    },
    "7635c04698f744e39381ebbef78b65b4": {
     "views": []
    },
    "7d695b5590b6477a8343473f64ae150c": {
     "views": []
    },
    "8810c3990a5744598b2c39248312db72": {
     "views": []
    },
    "8fc462426f73455c93d2a0950cc50542": {
     "views": []
    },
    "905e1b2f896c4c3cbc0d53d6e83d35a0": {
     "views": []
    },
    "9ab783cbadb347579099aba76a0d7ee4": {
     "views": []
    },
    "a7d4460d550641e7b6535e97d422dc92": {
     "views": []
    },
    "b31a9453b608482097f5bcdf4e4fe270": {
     "views": []
    },
    "b6fa77c029964c9f86a5a0be35d5fc2b": {
     "views": []
    },
    "bad27082536d46b784ef2898168ae2f7": {
     "views": []
    },
    "bdf01ab557784d5491e19c6dfd850735": {
     "views": []
    },
    "d78fbe26c0454570bd483c76800c0d40": {
     "views": [
      {
       "cell_index": 11
      }
     ]
    },
    "e0549f6b672f4aabbaa723e6e15bd51e": {
     "views": []
    },
    "e2854578567343a5b9e89a71fb2fe2da": {
     "views": []
    },
    "eb22a009cba64a25b839c1089b504cf3": {
     "views": []
    },
    "f60eeb3463874803b06e7993e4d60e66": {
     "views": []
    },
    "f6f92cdc1a694398a46ad54a69acc724": {
     "views": []
    },
    "fdd7cd259ba740b198e4550da4999a9d": {
     "views": [
      {
       "cell_index": 9
      }
     ]
    }
   },
   "version": "1.1.1"
  }
 },
 "nbformat": 4,
 "nbformat_minor": 0
}
