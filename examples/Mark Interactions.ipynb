{
 "cells": [
  {
   "cell_type": "code",
   "execution_count": 1,
   "metadata": {
    "collapsed": false
   },
   "outputs": [],
   "source": [
    "from __future__ import print_function\n",
    "from bqplot import *\n",
    "from IPython.display import display\n",
    "import numpy as np\n",
    "import pandas as pd"
   ]
  },
  {
   "cell_type": "markdown",
   "metadata": {},
   "source": [
    "## Scatter Chart"
   ]
  },
  {
   "cell_type": "code",
   "execution_count": 2,
   "metadata": {
    "collapsed": true
   },
   "outputs": [],
   "source": [
    "from ipywidgets import *"
   ]
  },
  {
   "cell_type": "code",
   "execution_count": 3,
   "metadata": {
    "collapsed": false
   },
   "outputs": [
    {
     "name": "stdout",
     "output_type": "stream",
     "text": [
      "{u'data': {u'y': -0.9260456277768951, u'x': 12, u'name': 112, u'unique_id': 12, u'index': 12}, u'event': u'hover'}\n",
      "{u'data': {u'y': 0.41796214971963885, u'x': 11, u'name': 111, u'unique_id': 11, u'index': 11}, u'event': u'hover'}\n",
      "{u'data': {u'y': -0.9260456277768951, u'x': 12, u'name': 112, u'unique_id': 12, u'index': 12}, u'event': u'hover'}\n",
      "{u'data': {u'y': -1.3211508490596429, u'x': 5, u'name': 105, u'unique_id': 5, u'index': 5}, u'event': u'element_click'}\n"
     ]
    }
   ],
   "source": [
    "x_sc = LinearScale()\n",
    "y_sc = LinearScale()\n",
    "\n",
    "x_data = np.arange(20)\n",
    "y_data = np.random.randn(20)\n",
    "\n",
    "dd = Dropdown(options=['First', 'Second', 'Third', 'Fourth'])\n",
    "scatter_chart = Scatter(x=x_data, y=y_data, scales= {'x': x_sc, 'y': y_sc}, default_colors=['dodgerblue'],\n",
    "                       names=np.arange(100, 200), names_unique=False, display_names=False, display_legend=True,\n",
    "                       labels=['Blue'])\n",
    "ins = Button(icon='fa-legal')\n",
    "scatter_chart.tooltip = ins\n",
    "\n",
    "scatter_chart2 = Scatter(x=x_data, y=np.random.randn(20), \n",
    "                         scales= {'x': x_sc, 'y': y_sc}, default_colors=['orangered'],\n",
    "                         tooltip=dd, names=np.arange(100, 200), names_unique=False, display_names=False, \n",
    "                         display_legend=True, labels=['Red'])\n",
    "\n",
    "ax_x = Axis(scale=x_sc)\n",
    "ax_y = Axis(scale=y_sc, orientation='vertical', tick_format='0.2f')\n",
    "\n",
    "fig = Figure(marks=[scatter_chart, scatter_chart2], axes=[ax_x, ax_y])\n",
    "display(fig)"
   ]
  },
  {
   "cell_type": "code",
   "execution_count": 4,
   "metadata": {
    "collapsed": false
   },
   "outputs": [],
   "source": [
    "def print_event(self, target):\n",
    "    print(target)\n",
    "\n",
    "# Adding call back to scatter events\n",
    "# print custom mssg on hover and background click of Blue Scatter\n",
    "scatter_chart.on_hover(print_event)\n",
    "scatter_chart.on_background_click(print_event)\n",
    "\n",
    "# print custom mssg on click of an element or legend of Red Scatter\n",
    "scatter_chart2.on_element_click(print_event)\n",
    "scatter_chart2.on_legend_click(print_event)"
   ]
  },
  {
   "cell_type": "code",
   "execution_count": 5,
   "metadata": {
    "collapsed": false
   },
   "outputs": [],
   "source": [
    "# Adding figure as tooltip\n",
    "x_sc = LinearScale()\n",
    "y_sc = LinearScale()\n",
    "\n",
    "x_data = np.arange(10)\n",
    "y_data = np.random.randn(10)\n",
    "\n",
    "lc = Lines(x=x_data, y=y_data, scales={'x': x_sc, 'y':y_sc})\n",
    "ax_x = Axis(scale=x_sc)\n",
    "ax_y = Axis(scale=y_sc, orientation='vertical', tick_format='0.2f')\n",
    "tooltip_fig = Figure(marks=[lc], axes=[ax_x, ax_y], min_height=400, min_width=400)\n",
    "\n",
    "scatter_chart.tooltip = tooltip_fig"
   ]
  },
  {
   "cell_type": "code",
   "execution_count": 6,
   "metadata": {
    "collapsed": false
   },
   "outputs": [],
   "source": [
    "# Changing interaction from hover to click for tooltip\n",
    "scatter_chart.interactions = {'click': 'tooltip'}"
   ]
  },
  {
   "cell_type": "markdown",
   "metadata": {},
   "source": [
    "## Line Chart"
   ]
  },
  {
   "cell_type": "code",
   "execution_count": 7,
   "metadata": {
    "collapsed": false
   },
   "outputs": [],
   "source": [
    "# Adding default tooltip to Line Chart\n",
    "x_sc = LinearScale()\n",
    "y_sc = LinearScale()\n",
    "\n",
    "x_data = np.arange(100)\n",
    "y_data = np.random.randn(3, 100)\n",
    "\n",
    "def_tt = Tooltip(fields=['name', 'index'], formats=['', '.2f'], labels=['id', 'line_num'])\n",
    "line_chart = Lines(x=x_data, y=y_data, scales= {'x': x_sc, 'y': y_sc}, \n",
    "                       tooltip=def_tt, display_legend=True, labels=[\"line 1\", \"line 2\", \"line 3\"] )\n",
    "\n",
    "ax_x = Axis(scale=x_sc)\n",
    "ax_y = Axis(scale=y_sc, orientation='vertical', tick_format='0.2f')\n",
    "\n",
    "fig = Figure(marks=[line_chart], axes=[ax_x, ax_y])\n",
    "display(fig)"
   ]
  },
  {
   "cell_type": "code",
   "execution_count": 8,
   "metadata": {
    "collapsed": false
   },
   "outputs": [],
   "source": [
    "# Adding call back to print event when legend or the line is clicked\n",
    "line_chart.on_legend_click(print_event)\n",
    "line_chart.on_element_click(print_event)"
   ]
  },
  {
   "cell_type": "markdown",
   "metadata": {},
   "source": [
    "## Bar Chart"
   ]
  },
  {
   "cell_type": "code",
   "execution_count": 9,
   "metadata": {
    "collapsed": false
   },
   "outputs": [],
   "source": [
    "# Adding interaction to select bar on click for Bar Chart\n",
    "x_sc = OrdinalScale()\n",
    "y_sc = LinearScale()\n",
    "\n",
    "x_data = np.arange(10)\n",
    "y_data = np.random.randn(2, 10)\n",
    "\n",
    "bar_chart = Bars(x=x_data, y=[y_data[0, :].tolist(), y_data[1, :].tolist()], scales= {'x': x_sc, 'y': y_sc},\n",
    "                 interactions={'click': 'select'},\n",
    "                 selected_style={'stroke': 'orange', 'fill': 'red'},\n",
    "                 labels=['Level 1', 'Level 2'],\n",
    "                 display_legend=True)\n",
    "ax_x = Axis(scale=x_sc)\n",
    "ax_y = Axis(scale=y_sc, orientation='vertical', tick_format='0.2f')\n",
    "\n",
    "fig = Figure(marks=[bar_chart], axes=[ax_x, ax_y])\n",
    "display(fig)"
   ]
  },
  {
   "cell_type": "code",
   "execution_count": 10,
   "metadata": {
    "collapsed": true
   },
   "outputs": [],
   "source": [
    "# Adding a tooltip on hover in addition to select on click\n",
    "def_tt = Tooltip(fields=['x', 'y'], formats=['', '.2f'])\n",
    "bar_chart.tooltip=def_tt\n",
    "bar_chart.interactions = {\n",
    "    'legend_hover': 'highlight_axes',\n",
    "    'hover': 'tooltip', \n",
    "    'click': 'select',\n",
    "}"
   ]
  },
  {
   "cell_type": "code",
   "execution_count": 11,
   "metadata": {
    "collapsed": true
   },
   "outputs": [],
   "source": [
    "# Changing tooltip to be on click\n",
    "bar_chart.interactions = {'click': 'tooltip'}"
   ]
  },
  {
   "cell_type": "code",
   "execution_count": 12,
   "metadata": {
    "collapsed": true
   },
   "outputs": [],
   "source": [
    "# Call back on legend being clicked\n",
    "bar_chart.type='grouped'\n",
    "bar_chart.on_legend_click(print_event)"
   ]
  },
  {
   "cell_type": "markdown",
   "metadata": {},
   "source": [
    "## Histogram"
   ]
  },
  {
   "cell_type": "code",
   "execution_count": 13,
   "metadata": {
    "collapsed": false
   },
   "outputs": [],
   "source": [
    "# Adding tooltip for Histogram\n",
    "x_sc = LinearScale()\n",
    "y_sc = LinearScale()\n",
    "\n",
    "sample_data = np.random.randn(100)\n",
    "\n",
    "def_tt = Tooltip(formats=['', '.2f'], fields=['count', 'midpoint'])\n",
    "hist = Hist(sample=sample_data, scales= {'sample': x_sc, 'count': y_sc},\n",
    "                       tooltip=def_tt, display_legend=True, labels=['Test Hist'], select_bars=True)\n",
    "ax_x = Axis(scale=x_sc, tick_format='0.2f')\n",
    "ax_y = Axis(scale=y_sc, orientation='vertical', tick_format='0.2f')\n",
    "\n",
    "fig = Figure(marks=[hist], axes=[ax_x, ax_y])\n",
    "display(fig)"
   ]
  },
  {
   "cell_type": "code",
   "execution_count": 14,
   "metadata": {
    "collapsed": true
   },
   "outputs": [],
   "source": [
    "# Changing tooltip to be displayed on click\n",
    "hist.interactions = {'click': 'tooltip'}"
   ]
  },
  {
   "cell_type": "code",
   "execution_count": 15,
   "metadata": {
    "collapsed": true
   },
   "outputs": [],
   "source": [
    "# Changing tooltip to be on click of legend\n",
    "hist.interactions = {'legend_click': 'tooltip'}"
   ]
  },
  {
   "cell_type": "markdown",
   "metadata": {
    "collapsed": true
   },
   "source": [
    "## Pie Chart"
   ]
  },
  {
   "cell_type": "code",
   "execution_count": 16,
   "metadata": {
    "collapsed": false
   },
   "outputs": [],
   "source": [
    "pie_data = np.abs(np.random.randn(10))\n",
    "\n",
    "sc = ColorScale(scheme='Reds')\n",
    "tooltip_widget = Tooltip(fields=['size', 'index', 'color'], formats=['0.2f', '', '0.2f'])\n",
    "pie = Pie(sizes=pie_data, scales={'color': sc}, color=np.random.randn(10), \n",
    "          tooltip=tooltip_widget, interactions = {'click': 'tooltip'}, selected_style={'fill': 'red'})\n",
    "\n",
    "pie.selected_style = {\"opacity\": \"1\", \"stroke\": \"white\", \"stroke-width\": \"2\"}\n",
    "pie.unselected_style = {\"opacity\": \"0.2\"}\n",
    "\n",
    "Figure(marks=[pie])"
   ]
  },
  {
   "cell_type": "code",
   "execution_count": 17,
   "metadata": {
    "collapsed": true
   },
   "outputs": [],
   "source": [
    "# Changing interaction to select on click and tooltip on hover\n",
    "pie.interactions = {'click': 'select', 'hover': 'tooltip'}"
   ]
  }
 ],
 "metadata": {
  "kernelspec": {
   "display_name": "Python 2",
   "language": "python",
   "name": "python2"
  },
  "language_info": {
   "codemirror_mode": {
    "name": "ipython",
    "version": 2
   },
   "file_extension": ".py",
   "mimetype": "text/x-python",
   "name": "python",
   "nbconvert_exporter": "python",
   "pygments_lexer": "ipython2",
   "version": "2.7.11"
  },
  "widgets": {
   "state": {
    "032993c001e04161a17c1404d37fa5a2": {
     "views": []
    },
    "09896836bf914f1a9005cc0e12c5b450": {
     "views": []
    },
    "0cf68fa4bf054eb6a455e9a693010555": {
     "views": []
    },
    "11aaa357bcbd4445ba51fc5950bf6420": {
     "views": []
    },
    "12df9fa277f94b96804c75cffd424177": {
     "views": []
    },
    "1c65664fc6e847c08f0a3d01ed864dbb": {
     "views": []
    },
    "1ce3ea490a4c49b4a83610691e30710c": {
     "views": [
      {
       "cell_index": 8
      }
     ]
    },
    "26f59633369e4fc9b14468b9b4de3617": {
     "views": []
    },
    "284507df2d3c4122bd92ab6e6095972d": {
     "views": []
    },
    "28b67f782c1441cdba734afe0628805d": {
     "views": []
    },
    "29cc8072ba5a4066a648a27286ebf9f8": {
     "views": []
    },
    "30673bba5fd548e0ba19b9ab40898ad5": {
     "views": []
    },
    "3285a7cf82f343039f74e8773b100028": {
     "views": []
    },
    "3587469a4a0d4d3a89a290eeb8cb2bff": {
     "views": []
    },
    "3670416e775d4ba98f5d91bc7acb8dbc": {
     "views": []
    },
    "374f8d9296234928bbdea1fef3f19b14": {
     "views": []
    },
    "41cff67ccae5476ca69bf1b785f25d6c": {
     "views": []
    },
    "42417769c1ee462891511237559865ec": {
     "views": []
    },
    "44a818e837424ee88537f3b054ebd507": {
     "views": []
    },
    "453f75717be14806a13556142680bc6a": {
     "views": []
    },
    "48c2c856487040509d2b92ed98cb1e48": {
     "views": []
    },
    "4a640c9aa8414c1a9dc11b5fc3d1a352": {
     "views": []
    },
    "5196be5cdcba43b19bd83b6530ecf2b3": {
     "views": []
    },
    "5282163a6dcb44e8a2ac622177c4a93a": {
     "views": []
    },
    "5dcafa79bf334126b1576737da071020": {
     "views": []
    },
    "5e56f28ea9064c0d91937721dd720474": {
     "views": []
    },
    "5e618d4bbdfe43f9906e0cfbc29dd71e": {
     "views": []
    },
    "64f4940fa1f74408a6111a3c31d6cf0d": {
     "views": []
    },
    "6b39b2ddf9d54eccb30a981bc714a0ad": {
     "views": [
      {
       "cell_index": 16
      }
     ]
    },
    "6bbda74e4c644fafab6c93d2ebf12b4a": {
     "views": []
    },
    "6f494617ebd443fbb4e55e05ffec9100": {
     "views": []
    },
    "715319217a8a41c79461366a19c711a1": {
     "views": []
    },
    "7417379d1fb74e8394767e047cd4ed04": {
     "views": []
    },
    "74c2f95acf7446f996babde5f23ff4f9": {
     "views": []
    },
    "762ab7da2bd74f8bb1c8ae75041d82f4": {
     "views": []
    },
    "7c5783160512494a821cca621dbde462": {
     "views": []
    },
    "7dc3ca1b88454a05b9fffabcd5aff0f4": {
     "views": []
    },
    "8365a85ef5364e038848cbf91701abcf": {
     "views": []
    },
    "8497a19e5ba34467a9b3552c8889d916": {
     "views": []
    },
    "871bd77c925b496482d9ed493420227f": {
     "views": []
    },
    "8d87a4275b734f53be96f20f64bfb7d3": {
     "views": []
    },
    "8dcb7260e01e4993a6b02abdadf5ecdc": {
     "views": []
    },
    "94e6e0274bfe4b68996ea6a528d6c308": {
     "views": [
      {
       "cell_index": 3
      }
     ]
    },
    "9704ccbfb67e4047babbbbfcc7944a38": {
     "views": []
    },
    "9abba72f06284b03aaf51bce6edc5520": {
     "views": [
      {
       "cell_index": 20
      }
     ]
    },
    "add88007303d4d8290bcbec27c8c48a9": {
     "views": []
    },
    "b3cb3102734744d9ad0d260d5c68e388": {
     "views": []
    },
    "bbc66f6a4a33410484bb6a4de9668dc0": {
     "views": [
      {
       "cell_index": 11
      }
     ]
    },
    "c0551e78867f4f7b95a29ee4acf9e459": {
     "views": []
    },
    "c322927f5d9b4963978e5d4cc82bc554": {
     "views": []
    },
    "c3b00107068049d5a1c44a8a0a28c321": {
     "views": []
    },
    "c850c24e8dff4b248668a2554f13e89b": {
     "views": []
    },
    "ce5d0b41e8ef4684a9aabfb1c7db272e": {
     "views": []
    },
    "d9496b054e914ba6a8913442531e3a14": {
     "views": []
    },
    "de5e1f44127548d280087302f56f52cd": {
     "views": []
    },
    "e05bcf9339cb4db19033493c98ebc86d": {
     "views": []
    },
    "ec7d7cdeea5d4e869f10ee87c50e552b": {
     "views": []
    },
    "ec848aa8791a498a9936b3a78634da3f": {
     "views": []
    },
    "f4cd879c540e4dd0a5f59ba379ea8898": {
     "views": []
    },
    "fa8abd64e170450cb9c01159e76be095": {
     "views": []
    }
   },
   "version": "1.1.1"
  }
 },
 "nbformat": 4,
 "nbformat_minor": 0
}
