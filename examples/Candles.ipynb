{
 "cells": [
  {
   "cell_type": "code",
   "execution_count": 1,
   "metadata": {
    "collapsed": false,
    "input_collapsed": false
   },
   "outputs": [],
   "source": [
    "from IPython.display import display\n",
    "from bqplot import *\n",
    "import numpy as np"
   ]
  },
  {
   "cell_type": "code",
   "execution_count": 2,
   "metadata": {
    "collapsed": false,
    "input_collapsed": false
   },
   "outputs": [],
   "source": [
    "price_data1 = [['2015-01-02 00:00:00', [161.31, 163.31, 161.0, 162.06]],\n",
    "              ['2015-01-05 00:00:00', [161.27, 161.27, 159.19, 159.51]],\n",
    "              ['2015-01-06 00:00:00', [159.67, 159.96, 155.17, 156.07]],\n",
    "              ['2015-01-07 00:00:00', [157.2, 157.2, 154.03, 155.05]],\n",
    "              ['2015-01-08 00:00:00', [156.24, 159.044, 155.55, 158.42]],\n",
    "              ['2015-01-09 00:00:00', [158.42, 160.34, 157.25, 159.11]],\n",
    "              ['2015-01-12 00:00:00', [159.0, 159.25, 155.76, 156.44]],\n",
    "              ['2015-01-13 00:00:00', [157.26, 159.97, 155.68, 156.81]],\n",
    "              ['2015-01-14 00:00:00', [154.86, 156.49, 153.74, 155.8]],\n",
    "              ['2015-01-15 00:00:00', [156.69, 156.97, 154.16, 154.57]]]\n",
    "\n",
    "price_data2 = [['2015-01-02 00:00:00', [111.39, 111.44, 107.35, 109.33]],\n",
    "               ['2015-01-05 00:00:00', [108.29, 108.65, 105.41, 106.25]],\n",
    "               ['2015-01-06 00:00:00', [106.54, 107.43, 104.63, 106.26]],\n",
    "               ['2015-01-07 00:00:00', [107.2, 108.2, 106.695, 107.75]],\n",
    "               ['2015-01-08 00:00:00', [109.23, 112.15, 108.7, 111.89]],\n",
    "               ['2015-01-09 00:00:00', [112.67, 113.25, 110.21, 112.01]],\n",
    "               ['2015-01-12 00:00:00', [112.6, 112.63, 108.8, 109.25]],\n",
    "               ['2015-01-13 00:00:00', [111.43, 112.8, 108.91, 110.22]],\n",
    "               ['2015-01-14 00:00:00', [109.04, 110.49, 108.5, 109.8]],\n",
    "               ['2015-01-15 00:00:00', [110.0, 110.06, 106.66, 106.82]]]"
   ]
  },
  {
   "cell_type": "code",
   "execution_count": 3,
   "metadata": {
    "collapsed": false
   },
   "outputs": [],
   "source": [
    "# Split up the data into x and y points\n",
    "from bqplot.traits import convert_to_date\n",
    "\n",
    "dates1 = convert_to_date([d[0] for d in price_data1])\n",
    "prices1 = [d[1] for d in price_data1]\n",
    "\n",
    "dates2 = convert_to_date([d[0] for d in price_data2])\n",
    "prices2 = [d[1] for d in price_data2]"
   ]
  },
  {
   "cell_type": "code",
   "execution_count": 4,
   "metadata": {
    "collapsed": false,
    "input_collapsed": false
   },
   "outputs": [],
   "source": [
    "sc = LinearScale()\n",
    "dt_scale = DateScale()\n",
    "ax_x = Axis(label='X', scale=dt_scale)\n",
    "ax_y = Axis(label='Y', scale=sc, orientation='vertical', tick_format='0.0f')\n",
    "\n",
    "# Construct the marks\n",
    "ohlc = OHLC(x=dates1, y=prices1, marker='candle', scales={'x': dt_scale, 'y': sc}, format='ohlc',\n",
    "            stroke='blue', display_legend=True, labels=['IBM US Equity'])\n",
    "ohlc2 = OHLC(x=dates2, y=prices2, marker='bar', scales={'x': dt_scale, 'y': sc}, colors=['dodgerblue', 'orange'],\n",
    "            stroke='orange', display_legend=True, labels=['AAPL US Equity'], format='ohlc')\n",
    "fig = Figure(axes=[ax_x, ax_y], marks=[ohlc, ohlc2])\n",
    "display(fig)"
   ]
  },
  {
   "cell_type": "code",
   "execution_count": 5,
   "metadata": {
    "collapsed": true,
    "input_collapsed": false
   },
   "outputs": [],
   "source": [
    "ohlc.colors = [None, 'red']"
   ]
  },
  {
   "cell_type": "code",
   "execution_count": 6,
   "metadata": {
    "collapsed": false,
    "input_collapsed": false
   },
   "outputs": [],
   "source": [
    "sc_y = LinearScale()\n",
    "sc_x = LogScale()\n",
    "\n",
    "ax_x = Axis(label='X', scale=sc_x)\n",
    "ax_y = Axis(label='Y', scale=sc_y, orientation='vertical', tick_format='0.2f')\n",
    "\n",
    "ohlc3 = OHLC(x=np.arange(len(dates2)) + 1, y=np.array(prices2) / 60,\n",
    "             marker='bar', scales={'x': sc_x, 'y': sc_y}, colors=['dodgerblue','orange'])\n",
    "\n",
    "fig = Figure(axes=[ax_x, ax_y], marks=[ohlc3])\n",
    "display(fig)"
   ]
  },
  {
   "cell_type": "code",
   "execution_count": 7,
   "metadata": {
    "collapsed": true
   },
   "outputs": [],
   "source": [
    "ohlc3.marker = 'candle'"
   ]
  },
  {
   "cell_type": "markdown",
   "metadata": {},
   "source": [
    "## OHLC with Ordinal Scale"
   ]
  },
  {
   "cell_type": "code",
   "execution_count": 8,
   "metadata": {
    "collapsed": false
   },
   "outputs": [],
   "source": [
    "sc_x = OrdinalScale()\n",
    "sc_y = LinearScale()\n",
    "\n",
    "ax_x = Axis(label='X', scale=sc_x, tick_format='%d-%m-%Y')\n",
    "ax_y = Axis(label='Y', scale=sc_y, orientation='vertical', tick_format='0.2f')\n",
    "\n",
    "ohlc3 = OHLC(x=dates2, y=np.array(prices2) / 60, marker='candle', \n",
    "             scales={'x': sc_x, 'y': sc_y}, colors=['dodgerblue','orange'])\n",
    "\n",
    "fig = Figure(axes=[ax_x, ax_y], marks=[ohlc3])\n",
    "display(fig)"
   ]
  },
  {
   "cell_type": "code",
   "execution_count": 9,
   "metadata": {
    "collapsed": true
   },
   "outputs": [],
   "source": [
    "ohlc3.opacities = [0.1, 0.2]"
   ]
  }
 ],
 "metadata": {
  "kernelspec": {
   "display_name": "Python 2",
   "language": "python",
   "name": "python2"
  },
  "language_info": {
   "codemirror_mode": {
    "name": "ipython",
    "version": 2
   },
   "file_extension": ".py",
   "mimetype": "text/x-python",
   "name": "python",
   "nbconvert_exporter": "python",
   "pygments_lexer": "ipython2",
   "version": "2.7.11"
  },
  "widgets": {
   "state": {
    "0263d441f158445ab6a8f7ef54b6da13": {
     "views": [
      {
       "cell_index": 5
      }
     ]
    },
    "038df8c30d10408b953b8512e59be629": {
     "views": []
    },
    "1044542f7ca24abebed5c1290088c21e": {
     "views": []
    },
    "11112456296f45ebb108ef1830c3c1d5": {
     "views": []
    },
    "13df73e2ca914e4f82e4bc2920974ae3": {
     "views": []
    },
    "18651aa2c72442f9bdd6c457729dc0d9": {
     "views": []
    },
    "32dbd2743e294908bb65874196ea2c78": {
     "views": []
    },
    "41204c795121455d974fce2ea81f5f53": {
     "views": []
    },
    "417cb7113a0842a7a1ef5bce7ed8bed6": {
     "views": []
    },
    "5b71caba19eb4ef1b57f7bda15d0b8c9": {
     "views": [
      {
       "cell_index": 8
      }
     ]
    },
    "60345d5cfd51439aa9f14f6abbc6434b": {
     "views": []
    },
    "6c4b324f615b4dc58c22c2221c229e0c": {
     "views": []
    },
    "6d908dc133e14a9cb8e165fc224b4db8": {
     "views": []
    },
    "6f7170fb03df4727bf8e45650a2a4261": {
     "views": []
    },
    "78bf10e92c0c489e960d141398b1b3a4": {
     "views": []
    },
    "997ed1ca35a14fd0aec6adaf87a4538c": {
     "views": []
    },
    "a64341aba8bd427a969aa2aad11c39b0": {
     "views": []
    },
    "ae8d2210bb184509903c95b15ead93dc": {
     "views": []
    },
    "b769867662dc4df6b43ad0d66189846e": {
     "views": []
    },
    "baf1023020334c84a271934bda2418dc": {
     "views": []
    },
    "bbbbccc23a9d410d86a5544025e739dd": {
     "views": []
    },
    "c48f073889e748eaaf7df139e7009ee8": {
     "views": []
    },
    "c78c0cbabf944609b060b3f9b5d25093": {
     "views": []
    },
    "d4223dc0209c487080199c42d7a6df85": {
     "views": []
    },
    "d8a2372351b9462d8619b9f3058b1ac5": {
     "views": [
      {
       "cell_index": 3
      }
     ]
    },
    "dab0d895410a40769dbf5ba4e381277c": {
     "views": []
    },
    "e76b564739d042218a309b5acc6ca837": {
     "views": []
    },
    "f566ad00eb1e4ced845ada19f15c9942": {
     "views": []
    }
   },
   "version": "1.1.1"
  }
 },
 "nbformat": 4,
 "nbformat_minor": 0
}
