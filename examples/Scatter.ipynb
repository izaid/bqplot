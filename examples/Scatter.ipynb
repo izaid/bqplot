{
 "cells": [
  {
   "cell_type": "code",
   "execution_count": 1,
   "metadata": {
    "collapsed": false,
    "input_collapsed": false
   },
   "outputs": [],
   "source": [
    "from __future__ import print_function\n",
    "import numpy as np\n",
    "import pandas as pd\n",
    "from IPython.display import display\n",
    "from bqplot import *"
   ]
  },
  {
   "cell_type": "markdown",
   "metadata": {},
   "source": [
    "## Get Data"
   ]
  },
  {
   "cell_type": "code",
   "execution_count": 2,
   "metadata": {
    "collapsed": false
   },
   "outputs": [],
   "source": [
    "price_data = pd.DataFrame(np.cumsum(np.random.randn(150, 2).dot([[1.0, -0.8], [-0.8, 1.0]]), axis=0) + 100,\n",
    "                          columns=['Security 1', 'Security 2'], index=pd.date_range(start='01-01-2007', periods=150))\n",
    "size = 100\n",
    "np.random.seed(0)\n",
    "x_data = range(size)\n",
    "y_data = np.cumsum(np.random.randn(size) * 100.0)\n",
    "ord_keys = np.array(['A', 'B', 'C', 'D', 'E', 'F'])\n",
    "ordinal_data = np.random.randint(5, size=size)"
   ]
  },
  {
   "cell_type": "code",
   "execution_count": 3,
   "metadata": {
    "collapsed": false,
    "input_collapsed": false
   },
   "outputs": [],
   "source": [
    "symbols = ['Security 1', 'Security 2']\n",
    "\n",
    "dates_all = price_data.index.values\n",
    "dates_all_t = dates_all[1:]\n",
    "sec1_levels = np.array(price_data[symbols[0]].values.flatten())\n",
    "log_sec1 = np.log(sec1_levels)\n",
    "sec1_returns = log_sec1[1:] - log_sec1[:-1]\n",
    "\n",
    "sec2_levels = np.array(price_data[symbols[1]].values.flatten())"
   ]
  },
  {
   "cell_type": "markdown",
   "metadata": {},
   "source": [
    "# Basic Scatter"
   ]
  },
  {
   "cell_type": "code",
   "execution_count": 4,
   "metadata": {
    "collapsed": true
   },
   "outputs": [],
   "source": [
    "sc_x = DateScale()\n",
    "sc_y = LinearScale()\n",
    "\n",
    "scatt = Scatter(x=dates_all, y=sec2_levels, scales={'x': sc_x, 'y': sc_y}, default_colors=['dodgerblue'])\n",
    "ax_x = Axis(scale=sc_x, label='Date')\n",
    "ax_y = Axis(scale=sc_y, orientation='vertical', tick_format='0.2f', label='Security 2')\n",
    "\n",
    "fig = Figure(marks=[scatt], axes=[ax_x, ax_y])\n",
    "display(fig)"
   ]
  },
  {
   "cell_type": "markdown",
   "metadata": {},
   "source": [
    "## Changing the marker and adding text to each point of the scatter"
   ]
  },
  {
   "cell_type": "code",
   "execution_count": 5,
   "metadata": {
    "collapsed": true
   },
   "outputs": [],
   "source": [
    "# Changing the marker as \n",
    "sc_x = LinearScale()\n",
    "sc_y = LinearScale()\n",
    "\n",
    "scatt = Scatter(x=x_data[:10], y=y_data[:10], names=np.arange(10),\n",
    "                scales={'x': sc_x, 'y': sc_y}, default_colors=['red'], marker='cross')\n",
    "ax_x = Axis(scale=sc_x)\n",
    "ax_y = Axis(scale=sc_y, orientation='vertical', tick_format='0.2f')\n",
    "\n",
    "fig = Figure(marks=[scatt], axes=[ax_x, ax_y], padding_x=0.025)\n",
    "display(fig)"
   ]
  },
  {
   "cell_type": "markdown",
   "metadata": {},
   "source": [
    "## Changing the opacity of each marker"
   ]
  },
  {
   "cell_type": "code",
   "execution_count": 6,
   "metadata": {
    "collapsed": true
   },
   "outputs": [],
   "source": [
    "scatt.default_opacities = [0.3, 0.5, 1.]"
   ]
  },
  {
   "cell_type": "markdown",
   "metadata": {},
   "source": [
    "# Representing additional dimensions of data"
   ]
  },
  {
   "cell_type": "markdown",
   "metadata": {
    "input_collapsed": false
   },
   "source": [
    "## Linear Scale for Color Data"
   ]
  },
  {
   "cell_type": "code",
   "execution_count": 7,
   "metadata": {
    "collapsed": false,
    "input_collapsed": false
   },
   "outputs": [],
   "source": [
    "sc_x = DateScale()\n",
    "sc_y = LinearScale()\n",
    "\n",
    "sc_c1 = ColorScale()\n",
    "scatter = Scatter(x=dates_all, y=sec2_levels, color=sec1_returns,\n",
    "                  scales={'x': sc_x, 'y': sc_y, 'color': sc_c1}, \n",
    "                  stroke='black')\n",
    "\n",
    "ax_y = Axis(label='Security 2', scale=sc_y, \n",
    "            orientation='vertical', side='left')\n",
    "\n",
    "ax_x = Axis(label='Date', scale=sc_x, num_ticks=10, label_location='end')\n",
    "ax_c = ColorAxis(scale=sc_c1, tick_format='0.2%', label='Returns', orientation='vertical', side='right')\n",
    "\n",
    "m_chart = dict(top=50, bottom=70, left=50, right=100)\n",
    "fig = Figure(axes=[ax_x, ax_c, ax_y], marks=[scatter], fig_margin=m_chart, title='Scatter of Security 2 vs Dates')\n",
    "display(fig)"
   ]
  },
  {
   "cell_type": "code",
   "execution_count": 8,
   "metadata": {
    "collapsed": false
   },
   "outputs": [],
   "source": [
    "## Changing the default color. \n",
    "scatter.default_colors = ['blue']  # In this case, the dot with the highest X changes to blue."
   ]
  },
  {
   "cell_type": "code",
   "execution_count": 9,
   "metadata": {
    "collapsed": false
   },
   "outputs": [],
   "source": [
    "## setting the fill to be empty\n",
    "scatter.stroke = None\n",
    "scatter.fill = False"
   ]
  },
  {
   "cell_type": "code",
   "execution_count": 10,
   "metadata": {
    "collapsed": false
   },
   "outputs": [],
   "source": [
    "## Setting the fill back\n",
    "scatter.stroke = 'black'\n",
    "scatter.fill = True"
   ]
  },
  {
   "cell_type": "code",
   "execution_count": 11,
   "metadata": {
    "collapsed": false
   },
   "outputs": [],
   "source": [
    "## Changing the color to a different variable\n",
    "scatter.color = sec2_levels\n",
    "ax_c.tick_format = '0.0f'\n",
    "ax_c.label = 'Security 2'"
   ]
  },
  {
   "cell_type": "code",
   "execution_count": 12,
   "metadata": {
    "collapsed": true
   },
   "outputs": [],
   "source": [
    "## Changing the range of the color scale\n",
    "sc_c1.colors = ['blue', 'green', 'orange']"
   ]
  },
  {
   "cell_type": "markdown",
   "metadata": {},
   "source": [
    "## Date Scale for Color Data"
   ]
  },
  {
   "cell_type": "code",
   "execution_count": 13,
   "metadata": {
    "collapsed": false
   },
   "outputs": [],
   "source": [
    "sc_x = LinearScale()\n",
    "sc_y = LinearScale()\n",
    "\n",
    "sc_c1 = DateColorScale(scheme='Reds')\n",
    "scatter = Scatter(x=sec2_levels, y=sec1_levels, color=dates_all,\n",
    "                  scales={'x': sc_x, 'y': sc_y, 'color': sc_c1}, default_size=128,\n",
    "                  stroke='black')\n",
    "\n",
    "ax_y = Axis(label='Security 1 Level', scale=sc_y, orientation='vertical', side='left')\n",
    "\n",
    "ax_x = Axis(label='Security 2', scale=sc_x)\n",
    "ax_c = ColorAxis(scale=sc_c1, label='Date', num_ticks=10)\n",
    "\n",
    "m_chart = dict(top=50, bottom=80, left=50, right=50)\n",
    "fig = Figure(axes=[ax_x, ax_c, ax_y], marks=[scatter], fig_margin=m_chart)\n",
    "display(fig)"
   ]
  },
  {
   "cell_type": "markdown",
   "metadata": {
    "input_collapsed": false
   },
   "source": [
    "## Ordinal Scale for Color"
   ]
  },
  {
   "cell_type": "code",
   "execution_count": 14,
   "metadata": {
    "collapsed": false,
    "input_collapsed": false
   },
   "outputs": [
    {
     "name": "stderr",
     "output_type": "stream",
     "text": [
      "/usr/local/lib/python2.7/site-packages/numpy/lib/shape_base.py:873: VisibleDeprecationWarning: using a non-integer number instead of an integer will result in an error in the future\n",
      "  return c.reshape(shape_out)\n"
     ]
    }
   ],
   "source": [
    "factor = np.ceil(len(sec2_levels) * 1.0 / len(ordinal_data))\n",
    "ordinal_data = np.tile(ordinal_data, factor)\n",
    "\n",
    "c_ord = OrdinalColorScale(colors=['DodgerBlue', 'SeaGreen', 'Yellow', 'HotPink', 'OrangeRed'])\n",
    "sc_x = LinearScale()\n",
    "sc_y = LinearScale()\n",
    "\n",
    "scatter2 = Scatter(x=sec2_levels[1:],\n",
    "                   y=sec1_returns,\n",
    "                   color=ordinal_data,\n",
    "                   scales={'x': sc_x, 'y': sc_y, 'color': c_ord}, \n",
    "                   legend='__no_legend__',\n",
    "                   stroke='black')\n",
    "\n",
    "ax_y = Axis(label='Security 1 Returns', scale=sc_y, orientation='vertical', tick_format='.2%')\n",
    "\n",
    "ax_x = Axis(label='Security 2', scale=sc_x, label_location='end')\n",
    "ax_c = ColorAxis(scale=c_ord, label='Class', side='right', orientation='vertical')\n",
    "\n",
    "m_chart = dict(top=50, bottom=70, left=100, right=100)\n",
    "fig2 = Figure(axes=[ax_x, ax_y, ax_c], marks=[scatter2], fig_margin=m_chart)\n",
    "display(fig2)"
   ]
  },
  {
   "cell_type": "code",
   "execution_count": 15,
   "metadata": {
    "collapsed": false
   },
   "outputs": [],
   "source": [
    "ax_c.tick_format = \"0.2f\"\n",
    "c_ord.colors = ['blue', 'red', 'green', 'yellow', 'orange']"
   ]
  },
  {
   "cell_type": "markdown",
   "metadata": {
    "input_collapsed": false
   },
   "source": [
    "## Setting size and opacity based on data"
   ]
  },
  {
   "cell_type": "code",
   "execution_count": 16,
   "metadata": {
    "collapsed": false,
    "input_collapsed": false
   },
   "outputs": [],
   "source": [
    "from bqplot.interacts import BrushSelector\n",
    "\n",
    "sc_x = LinearScale()\n",
    "sc_y = LinearScale()\n",
    "sc_y2 = LinearScale()\n",
    "\n",
    "sc_size = LinearScale()\n",
    "sc_opacity = LinearScale()\n",
    "\n",
    "\n",
    "scatter2 = Scatter(x=sec2_levels[1:], y=sec1_levels, size=sec1_returns,\n",
    "                   scales={'x': sc_x, 'y': sc_y, 'size': sc_size, 'opacity': sc_opacity}, \n",
    "                   default_size=128, default_colors=['orangered'], stroke='black')\n",
    "\n",
    "ax_y = Axis(label='Security 1', scale=sc_y, orientation='vertical', side='left')\n",
    "ax_x = Axis(label='Security 2', scale=sc_x)\n",
    "\n",
    "fig2 = Figure(axes=[ax_x, ax_y], marks=[scatter2])\n",
    "display(fig2)"
   ]
  },
  {
   "cell_type": "code",
   "execution_count": 17,
   "metadata": {
    "collapsed": false
   },
   "outputs": [],
   "source": [
    "## Changing the opacity of the scatter\n",
    "scatter2.default_opacities = [0.5, 0.3, 0.1]"
   ]
  },
  {
   "cell_type": "code",
   "execution_count": 18,
   "metadata": {
    "collapsed": false
   },
   "outputs": [
    {
     "name": "stderr",
     "output_type": "stream",
     "text": [
      "/usr/local/lib/python2.7/site-packages/traitlets/traitlets.py:540: FutureWarning: comparison to `None` will result in an elementwise object comparison in the future.\n",
      "  silent = bool(old_value == new_value)\n"
     ]
    }
   ],
   "source": [
    "## Resetting the size for the scatter\n",
    "scatter2.size=None"
   ]
  },
  {
   "cell_type": "code",
   "execution_count": 19,
   "metadata": {
    "collapsed": true
   },
   "outputs": [],
   "source": [
    "## Resetting the opacity and setting the opacity according to the date\n",
    "scatter2.default_opacities = [1.0]"
   ]
  },
  {
   "cell_type": "code",
   "execution_count": 20,
   "metadata": {
    "collapsed": true
   },
   "outputs": [],
   "source": [
    "scatter2.opacity = dates_all"
   ]
  },
  {
   "cell_type": "markdown",
   "metadata": {},
   "source": [
    "## Changing the skew of the marker"
   ]
  },
  {
   "cell_type": "code",
   "execution_count": 21,
   "metadata": {
    "collapsed": false
   },
   "outputs": [],
   "source": [
    "sc_x = LinearScale()\n",
    "sc_y = LinearScale()\n",
    "sc_e = LinearScale()\n",
    "\n",
    "scatter = Scatter(scales={'x': sc_x, 'y': sc_y, 'skew': sc_e}, \n",
    "                  x=sec2_levels[1:], y=sec1_levels,\n",
    "                  skew=sec1_returns, stroke=\"black\",\n",
    "                  default_colors=['gold'], default_size=200, \n",
    "                  marker='rectangle', default_skew=0)\n",
    "\n",
    "ax_y = Axis(label='Security 1', scale=sc_y, orientation='vertical', side='left')\n",
    "ax_x = Axis(label='Security 2', scale=sc_x)\n",
    "\n",
    "Figure(axes=[ax_x, ax_y], marks=[scatter], animation_duration=1000)"
   ]
  },
  {
   "cell_type": "code",
   "execution_count": 22,
   "metadata": {
    "collapsed": true
   },
   "outputs": [],
   "source": [
    "scatter.skew = None"
   ]
  },
  {
   "cell_type": "code",
   "execution_count": 23,
   "metadata": {
    "collapsed": true
   },
   "outputs": [],
   "source": [
    "scatter.skew = sec1_returns"
   ]
  },
  {
   "cell_type": "markdown",
   "metadata": {},
   "source": [
    "## Rotation scale"
   ]
  },
  {
   "cell_type": "code",
   "execution_count": 24,
   "metadata": {
    "collapsed": false
   },
   "outputs": [],
   "source": [
    "sc_x = LinearScale()\n",
    "sc_y = LinearScale()\n",
    "sc_e = LinearScale()\n",
    "sc_c = ColorScale(scheme='Reds')\n",
    "x1 = np.linspace(-1, 1, 30)\n",
    "y1 = np.linspace(-1, 1, 30)\n",
    "x, y = np.meshgrid(x1,y1)\n",
    "x, y = x.flatten(), y.flatten()\n",
    "rot = x**2 + y**2\n",
    "color=x-y\n",
    "scatter = Scatter(scales={'x': sc_x, 'y': sc_y, 'color': sc_c, 'rotation': sc_e}, \n",
    "                  x=x, y=y, rotation=rot, color=color,\n",
    "                  stroke=\"black\", default_size=200, \n",
    "                  marker='arrow', default_skew=0.5,)\n",
    "Figure(marks=[scatter], animation_duration=1000)"
   ]
  },
  {
   "cell_type": "code",
   "execution_count": 25,
   "metadata": {
    "collapsed": true
   },
   "outputs": [],
   "source": [
    "scatter.rotation = 1.0 / (x ** 2 + y ** 2 + 1)"
   ]
  },
  {
   "cell_type": "markdown",
   "metadata": {},
   "source": [
    "# Scatter Chart Interactions"
   ]
  },
  {
   "cell_type": "markdown",
   "metadata": {},
   "source": [
    "## Moving points in Scatter"
   ]
  },
  {
   "cell_type": "code",
   "execution_count": 26,
   "metadata": {
    "collapsed": false
   },
   "outputs": [
    {
     "name": "stdout",
     "output_type": "stream",
     "text": [
      "received drag end {u'index': 3, u'event': u'drag_end', u'point': {u'y': 538.3840737642084, u'x': 3}}\n"
     ]
    }
   ],
   "source": [
    "## Enabling moving of points in scatter. Try to click and drag any of the points in the scatter and \n",
    "## notice the line representing the mean of the data update\n",
    "sc_x = LinearScale()\n",
    "sc_y = LinearScale()\n",
    "\n",
    "scat = Scatter(x=x_data[:10], y=y_data[:10], scales={'x': sc_x, 'y': sc_y}, default_colors=['orange'],\n",
    "               enable_move=True)\n",
    "lin = Lines(scales={'x': sc_x, 'y': sc_y}, line_style='dotted', colors=['orange'])\n",
    "\n",
    "def update_line(change=None):\n",
    "    with lin.hold_sync():\n",
    "        lin.x = [np.min(scat.x), np.max(scat.x)]\n",
    "        lin.y = [np.mean(scat.y), np.mean(scat.y)]\n",
    "\n",
    "update_line()\n",
    "# update line on change of x or y of scatter\n",
    "scat.observe(update_line, names=['x'])\n",
    "scat.observe(update_line, names=['y'])\n",
    "\n",
    "ax_x = Axis(scale=sc_x)\n",
    "ax_y = Axis(scale=sc_y, tick_format='0.2f', orientation='vertical')\n",
    "\n",
    "fig = Figure(marks=[scat, lin], axes=[ax_x, ax_y])\n",
    "display(fig)"
   ]
  },
  {
   "cell_type": "code",
   "execution_count": 27,
   "metadata": {
    "collapsed": true
   },
   "outputs": [],
   "source": [
    "## Restricting movement to only along the Y-axis\n",
    "scat.restrict_y = True"
   ]
  },
  {
   "cell_type": "markdown",
   "metadata": {},
   "source": [
    "## Adding points to Scatter"
   ]
  },
  {
   "cell_type": "code",
   "execution_count": 28,
   "metadata": {
    "collapsed": true
   },
   "outputs": [],
   "source": [
    "## Enabling adding the points to Scatter. Try clicking anywhere on the scatter to add points\n",
    "with scat.hold_sync():\n",
    "    scat.enable_move = False\n",
    "    scat.enable_add = True"
   ]
  },
  {
   "cell_type": "markdown",
   "metadata": {},
   "source": [
    "## Updating X and Y while moving the point"
   ]
  },
  {
   "cell_type": "code",
   "execution_count": 29,
   "metadata": {
    "collapsed": true
   },
   "outputs": [],
   "source": [
    "## In this case on drag, the line updates as you move the points.\n",
    "with scat.hold_sync():\n",
    "    scat.enable_move = True\n",
    "    scat.update_on_move = True\n",
    "    scat.enable_add = False"
   ]
  },
  {
   "cell_type": "markdown",
   "metadata": {},
   "source": [
    "## Custom event on end of drag"
   ]
  },
  {
   "cell_type": "code",
   "execution_count": 30,
   "metadata": {
    "collapsed": false
   },
   "outputs": [],
   "source": [
    "## Whenever drag is ended, there is a custom event dispatched which can be listened to.\n",
    "## try dragging a point and see the data associated with the event being printed\n",
    "def test_func(self, content):\n",
    "    print(\"received drag end\", content)\n",
    "\n",
    "scat.on_drag_end(test_func)"
   ]
  },
  {
   "cell_type": "markdown",
   "metadata": {
    "collapsed": true
   },
   "source": [
    "## Adding tooltip"
   ]
  },
  {
   "cell_type": "code",
   "execution_count": 31,
   "metadata": {
    "collapsed": false
   },
   "outputs": [],
   "source": [
    "x_sc = LinearScale()\n",
    "y_sc = LinearScale()\n",
    "\n",
    "x_data = x_data[:50]\n",
    "y_data = y_data[:50]\n",
    "\n",
    "def_tt = Tooltip(fields=['x', 'y'], formats=['', '.2f'])\n",
    "\n",
    "scatter_chart = Scatter(x=x_data, y=y_data, scales= {'x': x_sc, 'y': y_sc}, default_colors=['dodgerblue'],\n",
    "                        tooltip=def_tt)\n",
    "ax_x = Axis(scale=x_sc)\n",
    "ax_y = Axis(scale=y_sc, orientation='vertical', tick_format='0.2f')\n",
    "\n",
    "fig = Figure(marks=[scatter_chart], axes=[ax_x, ax_y])\n",
    "display(fig)"
   ]
  },
  {
   "cell_type": "code",
   "execution_count": 32,
   "metadata": {
    "collapsed": true
   },
   "outputs": [],
   "source": [
    "## removing field names from the tooltip\n",
    "def_tt.show_names = False"
   ]
  },
  {
   "cell_type": "code",
   "execution_count": 33,
   "metadata": {
    "collapsed": true
   },
   "outputs": [],
   "source": [
    "## changing the fields displayed in the tooltip\n",
    "def_tt.fields = ['y']"
   ]
  }
 ],
 "metadata": {
  "kernelspec": {
   "display_name": "Python 2",
   "language": "python",
   "name": "python2"
  },
  "language_info": {
   "codemirror_mode": {
    "name": "ipython",
    "version": 2
   },
   "file_extension": ".py",
   "mimetype": "text/x-python",
   "name": "python",
   "nbconvert_exporter": "python",
   "pygments_lexer": "ipython2",
   "version": "2.7.11"
  },
  "widgets": {
   "state": {
    "011a38e07cfb42ed839d02b252d61cda": {
     "views": []
    },
    "033195b243df419b9bba7845fb4f67d3": {
     "views": []
    },
    "0460deebeebe4ec7be0ee3909c05b6fa": {
     "views": []
    },
    "06576ee4e674437185d6963a6c51662c": {
     "views": []
    },
    "06ef2b81882f41a982af9648d270785e": {
     "views": []
    },
    "07d9f619bd4e45749a1dd47e97eb38d4": {
     "views": []
    },
    "09df7f368523427e8f595862d5a72990": {
     "views": []
    },
    "101f54271b1e4110b2f6967156160eb2": {
     "views": []
    },
    "10a76b171d5a4f7bb9460cd94250449a": {
     "views": []
    },
    "146374ea736a494d8b9a03f1f1c67462": {
     "views": [
      {
       "cell_index": 21
      }
     ]
    },
    "14a0705fae33433b984836b4ab183c38": {
     "views": []
    },
    "1582eddd224b48ad8c06bbf454844ae0": {
     "views": []
    },
    "1784767c3a4f4f71b039409edcd9be69": {
     "views": []
    },
    "1bd76c5e9d5848e186377c0fe6723136": {
     "views": []
    },
    "23ec5b7fd2304aa98f6b0d206747190c": {
     "views": []
    },
    "26e29fa5a91d4c43b33f25bae02f123d": {
     "views": []
    },
    "2d116cb77c604712936a822e5881a4ee": {
     "views": []
    },
    "33914908c6fa43e98f2f35731985fd5b": {
     "views": []
    },
    "33fdc6f90e154927ab46f0e3dbd55544": {
     "views": []
    },
    "34c006a2a4df4bb893fa8eb98484e52a": {
     "views": []
    },
    "366bcb2ab9f746cf9210ba53f5e419c2": {
     "views": []
    },
    "38628a45058a45ab856c224989e47ffa": {
     "views": []
    },
    "39e07dfb2b184191a8c3d37fee62beb8": {
     "views": []
    },
    "3c429b712fea4f05b71e55e493407c60": {
     "views": [
      {
       "cell_index": 34
      }
     ]
    },
    "3d57f726b2e141a596b849fac9fb4b9f": {
     "views": []
    },
    "3d88f4a1e3f846bb8a7ce192b3a1cfe7": {
     "views": []
    },
    "3dc1b87ac4084bf192d9a6a2decc30fa": {
     "views": []
    },
    "46a3e0bdc1784d37b36f88fc4499bcf2": {
     "views": []
    },
    "48b5ad5bb3d2469d9d338981debcbd43": {
     "views": []
    },
    "5470cd3156334906bc13de5cd7ae1d6a": {
     "views": []
    },
    "55f333291b984e13a64e04c392cd88d1": {
     "views": []
    },
    "58dec2ae02024765a34e282fd301a079": {
     "views": []
    },
    "5a48ace6598749c59a4ad5fd01f46a02": {
     "views": []
    },
    "5ccb464eab6e4c1794b681a180327d11": {
     "views": []
    },
    "5e09b83c82c0494cb55b031f7c621ecb": {
     "views": []
    },
    "6162855ca2f74c31b846efb7798a4b44": {
     "views": []
    },
    "62367f52e91a40a0935ddf10c40874a0": {
     "views": []
    },
    "6299bdcd5fa8498ebe127a68e7c4ce0b": {
     "views": []
    },
    "637c8cc1efd74e03a2e2cf096168c8cf": {
     "views": []
    },
    "652e814be02a41cbaf0c555207d7901b": {
     "views": []
    },
    "66a232b7a6204a5998d9c56f8808b601": {
     "views": []
    },
    "689d6fffe8194971b3c4520c60e37f09": {
     "views": []
    },
    "6a278afc18b849ce895f960d0ade0f4e": {
     "views": []
    },
    "6b236373cf46496fa7ceff3c50f6ee68": {
     "views": [
      {
       "cell_index": 19
      }
     ]
    },
    "7037c57620214688b79bb6320ef4f6d8": {
     "views": []
    },
    "725ca80717a242b7a14af639cdab17a5": {
     "views": []
    },
    "73c3a7c1495341cd87272c6b6e8b87d2": {
     "views": []
    },
    "7afc2fdc409945c9b467f7f24eed86f9": {
     "views": []
    },
    "7ef820c11d924c75b1acf542afcb1695": {
     "views": []
    },
    "7f5dd11a539341ff8bd997408f10a2fd": {
     "views": []
    },
    "8081890b00524078b67b714da63ef20a": {
     "views": []
    },
    "819b150fa78c494189df395a4aa65355": {
     "views": []
    },
    "82762087b8fd41a69a0963cb7130d6b6": {
     "views": [
      {
       "cell_index": 24
      }
     ]
    },
    "8367ab7e0b9a4f0bb5870141226e24fc": {
     "views": []
    },
    "836f2a4563204f3bbbf8aa22f8facbfa": {
     "views": []
    },
    "8829c5b864a442cfb92b7404ebded5e1": {
     "views": []
    },
    "8a2389623c4d4e318f30c42129ebd7d7": {
     "views": []
    },
    "90fc23e017644ca0b8f2153c5373e1da": {
     "views": []
    },
    "93ae7b9f28564a2caf8b341a2b7c6320": {
     "views": []
    },
    "94a100ffd09a4a7fa042f384ed670153": {
     "views": []
    },
    "96fb3740dbc74231b1e6070a177ce88d": {
     "views": []
    },
    "9a02000acc284ddbbd6ca3390b5ec71e": {
     "views": [
      {
       "cell_index": 5
      }
     ]
    },
    "9a86e0e630934b8caac9dcf85b067d66": {
     "views": []
    },
    "9f91c5c9d7214a579892f0c60ecceba7": {
     "views": [
      {
       "cell_index": 12
      }
     ]
    },
    "9fcee8b675c943a38d2db44bd5be1af7": {
     "views": []
    },
    "a59f545f6e2749f5b6c9d3eb0f79ce79": {
     "views": []
    },
    "aa40293eb25f4c958f174ddb90492a09": {
     "views": []
    },
    "ab520700ab724f3a81469fa827e6029a": {
     "views": []
    },
    "add845b7f9334a5788ea3099728ca725": {
     "views": []
    },
    "af40e4d7190f4c488b586a6613036336": {
     "views": []
    },
    "b226c9017a824ecfb142d5bfe0d1493f": {
     "views": []
    },
    "b3f9147dea8642dc97e7964d1e08b94b": {
     "views": []
    },
    "b52ea7b3cea14cd09ba5af77f5cc0263": {
     "views": []
    },
    "ba8d6e823a664a17aa0d1773479f78c8": {
     "views": [
      {
       "cell_index": 47
      }
     ]
    },
    "bca9d91bb43a4ab2b647a3f620044c1a": {
     "views": []
    },
    "c088fc3be1f04befb8c9c85cabdd5076": {
     "views": []
    },
    "c7cea5e04e014544949989078f0d8c51": {
     "views": []
    },
    "cab7afc44c144e35a4c96e5aab5d1ac2": {
     "views": []
    },
    "d0ba5b9c157c4d1d8dcb4fe64020873a": {
     "views": []
    },
    "d3cd591cc7024a039536bcdc2bb93b39": {
     "views": []
    },
    "d94bba81b3634d1591fac3eed6d14fe9": {
     "views": [
      {
       "cell_index": 38
      }
     ]
    },
    "dc08f730aaca4c9c81105bb329f453d4": {
     "views": []
    },
    "dc986be117254ddbbf7b725cccf1115b": {
     "views": []
    },
    "dd90e448058b4874bd5c77c4c997f496": {
     "views": []
    },
    "dfe402657d1f475e9642c0149a5e2203": {
     "views": []
    },
    "dffc190691214817be398fec174a7c91": {
     "views": []
    },
    "e5fbe2ebcd784a8f99023d330c3047fd": {
     "views": []
    },
    "e6c1660a29184404a5c16fa3159040df": {
     "views": []
    },
    "e79b8bbb67e443c7987be61b5ef43e3a": {
     "views": []
    },
    "ecd797cb84354819a1c0def5484cd000": {
     "views": []
    },
    "ef7e2bed39d4478c8bdbf425066b9bbb": {
     "views": []
    },
    "f19c8edf89794e3bb944d12d45fc148a": {
     "views": []
    },
    "f24da30f9f7d4c8fbe9e655c8176dc7f": {
     "views": [
      {
       "cell_index": 30
      }
     ]
    },
    "f3af84b25aba4bc0a99b04cd742327c6": {
     "views": []
    },
    "f50fa16523b74474a717b6f9e4bd3702": {
     "views": []
    },
    "f7f772ee0e3942cf805e4bc6abf513fa": {
     "views": []
    },
    "f82b02b2d0df4219a05361fe60da79c8": {
     "views": []
    },
    "f954505cf1a34c519c61a69fb7f0158c": {
     "views": []
    },
    "fa7c7bb5d484418dad3160f1d9d1a77d": {
     "views": []
    },
    "fa9c3658370c496a8592b5e60202b02a": {
     "views": []
    },
    "fae3ffbf39874eb4a7734fafcfba5b55": {
     "views": []
    },
    "fe7b358255f04bf5bd334f8c41417745": {
     "views": [
      {
       "cell_index": 7
      }
     ]
    }
   },
   "version": "1.1.1"
  }
 },
 "nbformat": 4,
 "nbformat_minor": 0
}
